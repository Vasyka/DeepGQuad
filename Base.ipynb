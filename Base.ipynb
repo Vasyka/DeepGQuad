{
 "cells": [
  {
   "cell_type": "code",
   "execution_count": 1,
   "metadata": {},
   "outputs": [
    {
     "name": "stdout",
     "output_type": "stream",
     "text": [
      "1.4.0\n"
     ]
    },
    {
     "data": {
      "text/plain": [
       "['chr15.fa.fai', 'chr19.fa.fai', 'chr4.fa']"
      ]
     },
     "execution_count": 1,
     "metadata": {},
     "output_type": "execute_result"
    }
   ],
   "source": [
    "import os\n",
    "import numpy as np\n",
    "import pandas as pd\n",
    "import matplotlib.pyplot as plt\n",
    "from sklearn.metrics import *\n",
    "import seaborn as sns\n",
    "sns.set()\n",
    "%matplotlib inline\n",
    "\n",
    "import torch\n",
    "import torch.nn as nn\n",
    "import torch.nn.functional as F\n",
    "import torch.optim as optim\n",
    "\n",
    "from scripts import utils\n",
    "from scripts import metrics \n",
    "from scripts.dataset import SimpleSeqsDataset\n",
    "from scripts.training import *\n",
    "\n",
    "print(torch.__version__)\n",
    "os.chdir('./Data')\n",
    "\n",
    "os.listdir()[:3]"
   ]
  },
  {
   "cell_type": "code",
   "execution_count": 2,
   "metadata": {},
   "outputs": [
    {
     "name": "stdout",
     "output_type": "stream",
     "text": [
      "['chr1' 'chr2' 'chr3' 'chr4' 'chr5' 'chr6' 'chr7' 'chr8' 'chr9' 'chr10'\n",
      " 'chr11' 'chr12' 'chr13' 'chr14' 'chr15' 'chr16' 'chr17' 'chr18' 'chr19'\n",
      " 'chr20' 'chr21' 'chr22' 'chrM' 'chrX' 'chrY']\n",
      "(8955, 5)\n",
      "not longer than 500bp: 0.9711892797319933\n"
     ]
    },
    {
     "data": {
      "text/html": [
       "<div>\n",
       "<style scoped>\n",
       "    .dataframe tbody tr th:only-of-type {\n",
       "        vertical-align: middle;\n",
       "    }\n",
       "\n",
       "    .dataframe tbody tr th {\n",
       "        vertical-align: top;\n",
       "    }\n",
       "\n",
       "    .dataframe thead th {\n",
       "        text-align: right;\n",
       "    }\n",
       "</style>\n",
       "<table border=\"1\" class=\"dataframe\">\n",
       "  <thead>\n",
       "    <tr style=\"text-align: right;\">\n",
       "      <th></th>\n",
       "      <th>len</th>\n",
       "    </tr>\n",
       "  </thead>\n",
       "  <tbody>\n",
       "    <tr>\n",
       "      <th>count</th>\n",
       "      <td>8955.000000</td>\n",
       "    </tr>\n",
       "    <tr>\n",
       "      <th>mean</th>\n",
       "      <td>226.098157</td>\n",
       "    </tr>\n",
       "    <tr>\n",
       "      <th>std</th>\n",
       "      <td>132.413339</td>\n",
       "    </tr>\n",
       "    <tr>\n",
       "      <th>min</th>\n",
       "      <td>1.000000</td>\n",
       "    </tr>\n",
       "    <tr>\n",
       "      <th>25%</th>\n",
       "      <td>142.000000</td>\n",
       "    </tr>\n",
       "    <tr>\n",
       "      <th>50%</th>\n",
       "      <td>205.000000</td>\n",
       "    </tr>\n",
       "    <tr>\n",
       "      <th>75%</th>\n",
       "      <td>285.000000</td>\n",
       "    </tr>\n",
       "    <tr>\n",
       "      <th>max</th>\n",
       "      <td>5502.000000</td>\n",
       "    </tr>\n",
       "  </tbody>\n",
       "</table>\n",
       "</div>"
      ],
      "text/plain": [
       "               len\n",
       "count  8955.000000\n",
       "mean    226.098157\n",
       "std     132.413339\n",
       "min       1.000000\n",
       "25%     142.000000\n",
       "50%     205.000000\n",
       "75%     285.000000\n",
       "max    5502.000000"
      ]
     },
     "execution_count": 2,
     "metadata": {},
     "output_type": "execute_result"
    }
   ],
   "source": [
    "chromosomes = list(range(1,23)) + ['M','X','Y']\n",
    "data_full = utils.merge_chrom_data('chr', chromosomes)\n",
    "print(data_full.shape)\n",
    "print('not longer than 500bp:', sum(data_full.len <= 500) / data_full.shape[0])\n",
    "pd.DataFrame(data_full.len.describe())"
   ]
  },
  {
   "cell_type": "code",
   "execution_count": 3,
   "metadata": {
    "scrolled": true
   },
   "outputs": [
    {
     "data": {
      "image/png": "[encoded data removed]",
      "text/plain": [
       "<Figure size 864x432 with 1 Axes>"
      ]
     },
     "metadata": {},
     "output_type": "display_data"
    }
   ],
   "source": [
    "ax = data_full[data_full.len<1000].len.hist(bins=np.arange(data_full.len.min(),1000,30),figsize=(12,6))\n",
    "ax.set_ylabel('Количество G-квадруплексов')\n",
    "ax.set_xlabel('Длина участка')\n",
    "ax.set_title('Распределение длин G-квадруплексов')\n",
    "ax.axvline(500,color='r', linestyle='--')\n",
    "plt.savefig('../g_quadruplexes.png')"
   ]
  },
  {
   "cell_type": "code",
   "execution_count": 4,
   "metadata": {},
   "outputs": [
    {
     "name": "stdout",
     "output_type": "stream",
     "text": [
      "Координаты G-квадруплексов после удаления слишком длинных и центрирования:\n",
      "Start shape: (8955, 4)\n",
      "Final shape: (8697, 6)\n"
     ]
    },
    {
     "data": {
      "text/html": [
       "<div>\n",
       "<style scoped>\n",
       "    .dataframe tbody tr th:only-of-type {\n",
       "        vertical-align: middle;\n",
       "    }\n",
       "\n",
       "    .dataframe tbody tr th {\n",
       "        vertical-align: top;\n",
       "    }\n",
       "\n",
       "    .dataframe thead th {\n",
       "        text-align: right;\n",
       "    }\n",
       "</style>\n",
       "<table border=\"1\" class=\"dataframe\">\n",
       "  <thead>\n",
       "    <tr style=\"text-align: right;\">\n",
       "      <th></th>\n",
       "      <th>chr</th>\n",
       "      <th>start</th>\n",
       "      <th>end</th>\n",
       "      <th>len</th>\n",
       "      <th>new_start</th>\n",
       "      <th>new_end</th>\n",
       "    </tr>\n",
       "  </thead>\n",
       "  <tbody>\n",
       "    <tr>\n",
       "      <th>0</th>\n",
       "      <td>chr1</td>\n",
       "      <td>713977</td>\n",
       "      <td>714310</td>\n",
       "      <td>333</td>\n",
       "      <td>713894</td>\n",
       "      <td>714394</td>\n",
       "    </tr>\n",
       "    <tr>\n",
       "      <th>1</th>\n",
       "      <td>chr1</td>\n",
       "      <td>762850</td>\n",
       "      <td>762982</td>\n",
       "      <td>132</td>\n",
       "      <td>762666</td>\n",
       "      <td>763166</td>\n",
       "    </tr>\n",
       "    <tr>\n",
       "      <th>2</th>\n",
       "      <td>chr1</td>\n",
       "      <td>840076</td>\n",
       "      <td>840205</td>\n",
       "      <td>129</td>\n",
       "      <td>839891</td>\n",
       "      <td>840391</td>\n",
       "    </tr>\n",
       "    <tr>\n",
       "      <th>3</th>\n",
       "      <td>chr1</td>\n",
       "      <td>894635</td>\n",
       "      <td>894796</td>\n",
       "      <td>161</td>\n",
       "      <td>894466</td>\n",
       "      <td>894966</td>\n",
       "    </tr>\n",
       "    <tr>\n",
       "      <th>4</th>\n",
       "      <td>chr1</td>\n",
       "      <td>935414</td>\n",
       "      <td>935699</td>\n",
       "      <td>285</td>\n",
       "      <td>935307</td>\n",
       "      <td>935807</td>\n",
       "    </tr>\n",
       "  </tbody>\n",
       "</table>\n",
       "</div>"
      ],
      "text/plain": [
       "    chr   start     end  len  new_start  new_end\n",
       "0  chr1  713977  714310  333     713894   714394\n",
       "1  chr1  762850  762982  132     762666   763166\n",
       "2  chr1  840076  840205  129     839891   840391\n",
       "3  chr1  894635  894796  161     894466   894966\n",
       "4  chr1  935414  935699  285     935307   935807"
      ]
     },
     "execution_count": 4,
     "metadata": {},
     "output_type": "execute_result"
    }
   ],
   "source": [
    "print('Координаты G-квадруплексов после удаления слишком длинных и центрирования:')\n",
    "utils.center_seq(500).head()"
   ]
  },
  {
   "cell_type": "code",
   "execution_count": 5,
   "metadata": {},
   "outputs": [
    {
     "name": "stdout",
     "output_type": "stream",
     "text": [
      "['chr1' 'chr2' 'chr3' 'chr4' 'chr5' 'chr6' 'chr7' 'chr8' 'chr9' 'chr10'\n",
      " 'chr11' 'chr12' 'chr13' 'chr14' 'chr15' 'chr16' 'chr17' 'chr18' 'chr19'\n",
      " 'chr20' 'chr21' 'chr22' 'chrM' 'chrX' 'chrY']\n"
     ]
    },
    {
     "data": {
      "text/html": [
       "<div>\n",
       "<style scoped>\n",
       "    .dataframe tbody tr th:only-of-type {\n",
       "        vertical-align: middle;\n",
       "    }\n",
       "\n",
       "    .dataframe tbody tr th {\n",
       "        vertical-align: top;\n",
       "    }\n",
       "\n",
       "    .dataframe thead th {\n",
       "        text-align: right;\n",
       "    }\n",
       "</style>\n",
       "<table border=\"1\" class=\"dataframe\">\n",
       "  <thead>\n",
       "    <tr style=\"text-align: right;\">\n",
       "      <th></th>\n",
       "      <th>chr</th>\n",
       "      <th>start</th>\n",
       "      <th>end</th>\n",
       "      <th>seq</th>\n",
       "      <th>len</th>\n",
       "    </tr>\n",
       "  </thead>\n",
       "  <tbody>\n",
       "    <tr>\n",
       "      <th>0</th>\n",
       "      <td>chr1</td>\n",
       "      <td>713894</td>\n",
       "      <td>714394</td>\n",
       "      <td>TTCAGCCGGCAACACACAGAACCTGGCGGGGAGGTCACTCTTACCA...</td>\n",
       "      <td>500</td>\n",
       "    </tr>\n",
       "    <tr>\n",
       "      <th>1</th>\n",
       "      <td>chr1</td>\n",
       "      <td>762666</td>\n",
       "      <td>763166</td>\n",
       "      <td>ACCGGACACAGACGCAGATCTGGCAGCTGAGCGACAGGCTTCGGAG...</td>\n",
       "      <td>500</td>\n",
       "    </tr>\n",
       "    <tr>\n",
       "      <th>2</th>\n",
       "      <td>chr1</td>\n",
       "      <td>839891</td>\n",
       "      <td>840391</td>\n",
       "      <td>ACGTGGCCTCCTCCGAACGCGGCCGCCTCCTCCTCCGAACGCGGCC...</td>\n",
       "      <td>500</td>\n",
       "    </tr>\n",
       "    <tr>\n",
       "      <th>3</th>\n",
       "      <td>chr1</td>\n",
       "      <td>894466</td>\n",
       "      <td>894966</td>\n",
       "      <td>GGTCACGCAGGAGTCACAGCTGCCCGCACGCCCAGCTCGCCCCAGC...</td>\n",
       "      <td>500</td>\n",
       "    </tr>\n",
       "    <tr>\n",
       "      <th>4</th>\n",
       "      <td>chr1</td>\n",
       "      <td>935307</td>\n",
       "      <td>935807</td>\n",
       "      <td>CTGCCATCGGCGAGGCGCTCGGTTTCCCCGGCGTGTCTGCGGCCAT...</td>\n",
       "      <td>500</td>\n",
       "    </tr>\n",
       "  </tbody>\n",
       "</table>\n",
       "</div>"
      ],
      "text/plain": [
       "    chr   start     end                                                seq  \\\n",
       "0  chr1  713894  714394  TTCAGCCGGCAACACACAGAACCTGGCGGGGAGGTCACTCTTACCA...   \n",
       "1  chr1  762666  763166  ACCGGACACAGACGCAGATCTGGCAGCTGAGCGACAGGCTTCGGAG...   \n",
       "2  chr1  839891  840391  ACGTGGCCTCCTCCGAACGCGGCCGCCTCCTCCTCCGAACGCGGCC...   \n",
       "3  chr1  894466  894966  GGTCACGCAGGAGTCACAGCTGCCCGCACGCCCAGCTCGCCCCAGC...   \n",
       "4  chr1  935307  935807  CTGCCATCGGCGAGGCGCTCGGTTTCCCCGGCGTGTCTGCGGCCAT...   \n",
       "\n",
       "   len  \n",
       "0  500  \n",
       "1  500  \n",
       "2  500  \n",
       "3  500  \n",
       "4  500  "
      ]
     },
     "execution_count": 5,
     "metadata": {},
     "output_type": "execute_result"
    }
   ],
   "source": [
    "chromosomes = list(range(1,23)) + ['M','X','Y']\n",
    "df = utils.merge_chrom_data('chr', chromosomes, '_centered')\n",
    "df.head()"
   ]
  },
  {
   "cell_type": "code",
   "execution_count": 6,
   "metadata": {
    "scrolled": true
   },
   "outputs": [
    {
     "name": "stdout",
     "output_type": "stream",
     "text": [
      "['chr1' 'chr2' 'chr3' 'chr4' 'chr5' 'chr6' 'chr7' 'chr8' 'chr9' 'chr10'\n",
      " 'chr11' 'chr12' 'chr13' 'chr14' 'chr15' 'chr16' 'chr17' 'chr18' 'chr19'\n",
      " 'chr20' 'chr21' 'chr22' 'chrM' 'chrX' 'chrY']\n"
     ]
    },
    {
     "data": {
      "text/html": [
       "<div>\n",
       "<style scoped>\n",
       "    .dataframe tbody tr th:only-of-type {\n",
       "        vertical-align: middle;\n",
       "    }\n",
       "\n",
       "    .dataframe tbody tr th {\n",
       "        vertical-align: top;\n",
       "    }\n",
       "\n",
       "    .dataframe thead th {\n",
       "        text-align: right;\n",
       "    }\n",
       "</style>\n",
       "<table border=\"1\" class=\"dataframe\">\n",
       "  <thead>\n",
       "    <tr style=\"text-align: right;\">\n",
       "      <th></th>\n",
       "      <th>chr</th>\n",
       "      <th>start</th>\n",
       "      <th>end</th>\n",
       "      <th>seq</th>\n",
       "      <th>len</th>\n",
       "    </tr>\n",
       "  </thead>\n",
       "  <tbody>\n",
       "    <tr>\n",
       "      <th>0</th>\n",
       "      <td>chr1</td>\n",
       "      <td>113133816</td>\n",
       "      <td>113134316</td>\n",
       "      <td>tgctgggattacaggtgtgagccaccacacccggccTAGTATGTTA...</td>\n",
       "      <td>500</td>\n",
       "    </tr>\n",
       "    <tr>\n",
       "      <th>1</th>\n",
       "      <td>chr1</td>\n",
       "      <td>180867994</td>\n",
       "      <td>180868494</td>\n",
       "      <td>ctttaaaatgcctttggtcccaagtctctgacaggagggtgaggtg...</td>\n",
       "      <td>500</td>\n",
       "    </tr>\n",
       "    <tr>\n",
       "      <th>2</th>\n",
       "      <td>chr1</td>\n",
       "      <td>95276940</td>\n",
       "      <td>95277440</td>\n",
       "      <td>gggcaaagaacccgcatcagcctgcctcatcattaaccctcaactg...</td>\n",
       "      <td>500</td>\n",
       "    </tr>\n",
       "    <tr>\n",
       "      <th>3</th>\n",
       "      <td>chr1</td>\n",
       "      <td>40094551</td>\n",
       "      <td>40095051</td>\n",
       "      <td>gcgtgagccaccgcgcccggccCGCTGTTTTTTTCTAACATTTGCT...</td>\n",
       "      <td>500</td>\n",
       "    </tr>\n",
       "    <tr>\n",
       "      <th>4</th>\n",
       "      <td>chr1</td>\n",
       "      <td>152882574</td>\n",
       "      <td>152883074</td>\n",
       "      <td>CAGAAAACCCAGAGCAGCAGCTTAAGCAGGAGAAAACACAAAGGGA...</td>\n",
       "      <td>500</td>\n",
       "    </tr>\n",
       "  </tbody>\n",
       "</table>\n",
       "</div>"
      ],
      "text/plain": [
       "    chr      start        end  \\\n",
       "0  chr1  113133816  113134316   \n",
       "1  chr1  180867994  180868494   \n",
       "2  chr1   95276940   95277440   \n",
       "3  chr1   40094551   40095051   \n",
       "4  chr1  152882574  152883074   \n",
       "\n",
       "                                                 seq  len  \n",
       "0  tgctgggattacaggtgtgagccaccacacccggccTAGTATGTTA...  500  \n",
       "1  ctttaaaatgcctttggtcccaagtctctgacaggagggtgaggtg...  500  \n",
       "2  gggcaaagaacccgcatcagcctgcctcatcattaaccctcaactg...  500  \n",
       "3  gcgtgagccaccgcgcccggccCGCTGTTTTTTTCTAACATTTGCT...  500  \n",
       "4  CAGAAAACCCAGAGCAGCAGCTTAAGCAGGAGAAAACACAAAGGGA...  500  "
      ]
     },
     "execution_count": 6,
     "metadata": {},
     "output_type": "execute_result"
    }
   ],
   "source": [
    "# Load shuffled data \n",
    "chromosomes = list(range(1,23)) + ['M','X','Y']\n",
    "shuf = utils.merge_chrom_data('shuffled_chr', chromosomes)\n",
    "shuf.head()"
   ]
  },
  {
   "cell_type": "code",
   "execution_count": 7,
   "metadata": {},
   "outputs": [],
   "source": [
    "# Split to test & train\n",
    "test_chromosomes_list = [3,6,9,12,15,18,21]\n",
    "test_chromosomes = list(map(lambda n:'chr'+str(n),test_chromosomes_list))\n",
    "specific_chromosomes = ['chrX','chrM','chrY']\n",
    "\n",
    "shuf['label'] = 0\n",
    "test_shuf = shuf[shuf.chr.isin(test_chromosomes)]\n",
    "train_shuf = shuf[~shuf.chr.isin(test_chromosomes + specific_chromosomes)]\n",
    "\n",
    "df['label'] = 1\n",
    "test_data = df[df.chr.isin(test_chromosomes)]\n",
    "train_data = df[~df.chr.isin(test_chromosomes + specific_chromosomes)]\n",
    "\n",
    "train_full = pd.concat([train_data,train_shuf]).reset_index(drop=True)\n",
    "test_full = pd.concat([test_data,test_shuf]).reset_index(drop=True)"
   ]
  },
  {
   "cell_type": "code",
   "execution_count": 8,
   "metadata": {},
   "outputs": [
    {
     "data": {
      "text/plain": [
       "(4222,)"
      ]
     },
     "execution_count": 8,
     "metadata": {},
     "output_type": "execute_result"
    }
   ],
   "source": [
    "# Get X & y\n",
    "train_X = utils.encode_seq(train_full.seq)\n",
    "test_X = utils.encode_seq(test_full.seq)\n",
    "train_y = train_full.label\n",
    "test_y = test_full.label\n",
    "np.array(test_y).shape"
   ]
  },
  {
   "cell_type": "code",
   "execution_count": 9,
   "metadata": {},
   "outputs": [],
   "source": [
    "# Get train & test datasets\n",
    "device = utils.get_device()      \n",
    "BATCH_SIZE = 32\n",
    "batch_num = len(train_X)//BATCH_SIZE\n",
    "     \n",
    "train_dataset = SimpleSeqsDataset(train_X, train_y)\n",
    "test_dataset = SimpleSeqsDataset(test_X, test_y)"
   ]
  },
  {
   "cell_type": "code",
   "execution_count": 10,
   "metadata": {},
   "outputs": [
    {
     "data": {
      "text/plain": [
       "tensor([[0., 0., 0.,  ..., 1., 0., 0.],\n",
       "        [1., 1., 0.,  ..., 0., 0., 0.],\n",
       "        [0., 0., 1.,  ..., 0., 0., 0.],\n",
       "        [0., 0., 0.,  ..., 0., 1., 1.]])"
      ]
     },
     "execution_count": 10,
     "metadata": {},
     "output_type": "execute_result"
    }
   ],
   "source": [
    "train_dataset.__getitem__(3)[0]"
   ]
  },
  {
   "cell_type": "code",
   "execution_count": 11,
   "metadata": {},
   "outputs": [
    {
     "name": "stdout",
     "output_type": "stream",
     "text": [
      "Net(\n",
      "  (conv1): Conv1d(4, 16, kernel_size=(5,), stride=(1,))\n",
      "  (pool): MaxPool1d(kernel_size=5, stride=5, padding=0, dilation=1, ceil_mode=False)\n",
      "  (fc1): Linear(in_features=1584, out_features=128, bias=True)\n",
      "  (fc2): Linear(in_features=128, out_features=1, bias=True)\n",
      ")\n"
     ]
    }
   ],
   "source": [
    "class Net(nn.Module):\n",
    "    def __init__(self):\n",
    "        super(Net, self).__init__()\n",
    "        self.conv1 = nn.Conv1d(in_channels=4,out_channels=16, kernel_size=5)\n",
    "        self.pool = nn.MaxPool1d(5)\n",
    "        self.fc1 = nn.Linear(16*99, 128)\n",
    "        self.fc2 = nn.Linear(128, 1)\n",
    "\n",
    "    def forward(self, x):\n",
    "        x = F.relu(self.conv1(x))\n",
    "        x = self.pool(x)\n",
    "        x = x.view(-1, 16*99)\n",
    "        x = F.relu(self.fc1(x))\n",
    "        x = torch.sigmoid(self.fc2(x))\n",
    "        return x\n",
    "    \n",
    "net = Net()\n",
    "print(net)"
   ]
  },
  {
   "cell_type": "code",
   "execution_count": 12,
   "metadata": {},
   "outputs": [],
   "source": [
    "all_losses = []\n",
    "all_accs = []"
   ]
  },
  {
   "cell_type": "code",
   "execution_count": 13,
   "metadata": {},
   "outputs": [
    {
     "name": "stdout",
     "output_type": "stream",
     "text": [
      "Epoch: 1, step:  100 | loss: 0.651 | acc: 80.440 \n",
      "Epoch: 1, step:  200 | loss: 0.495 | acc: 89.810 \n",
      "Epoch: 1, step:  300 | loss: 0.301 | acc: 90.340 \n",
      "Epoch: 1, step:  400 | loss: 0.209 | acc: 92.650 \n",
      "Epoch: 2, step:  100 | loss: 0.182 | acc: 94.560 \n",
      "Epoch: 2, step:  200 | loss: 0.201 | acc: 93.000 \n",
      "Epoch: 2, step:  300 | loss: 0.185 | acc: 93.570 \n",
      "Epoch: 2, step:  400 | loss: 0.170 | acc: 94.260 \n",
      "Epoch: 3, step:  100 | loss: 0.187 | acc: 93.000 \n",
      "Epoch: 3, step:  200 | loss: 0.162 | acc: 94.610 \n",
      "Epoch: 3, step:  300 | loss: 0.156 | acc: 94.580 \n",
      "Epoch: 3, step:  400 | loss: 0.171 | acc: 94.130 \n",
      "Epoch: 4, step:  100 | loss: 0.178 | acc: 93.560 \n",
      "Epoch: 4, step:  200 | loss: 0.159 | acc: 94.590 \n",
      "Epoch: 4, step:  300 | loss: 0.160 | acc: 94.570 \n",
      "Epoch: 4, step:  400 | loss: 0.156 | acc: 94.590 \n",
      "Epoch: 5, step:  100 | loss: 0.161 | acc: 94.490 \n",
      "Epoch: 5, step:  200 | loss: 0.154 | acc: 94.660 \n",
      "Epoch: 5, step:  300 | loss: 0.162 | acc: 94.370 \n",
      "Epoch: 5, step:  400 | loss: 0.148 | acc: 94.420 \n",
      "Epoch: 6, step:  100 | loss: 0.161 | acc: 94.380 \n",
      "Epoch: 6, step:  200 | loss: 0.142 | acc: 94.890 \n",
      "Epoch: 6, step:  300 | loss: 0.149 | acc: 94.710 \n",
      "Epoch: 6, step:  400 | loss: 0.148 | acc: 94.850 \n",
      "Epoch: 7, step:  100 | loss: 0.133 | acc: 95.370 \n",
      "Epoch: 7, step:  200 | loss: 0.148 | acc: 94.630 \n",
      "Epoch: 7, step:  300 | loss: 0.151 | acc: 94.300 \n",
      "Epoch: 7, step:  400 | loss: 0.159 | acc: 94.200 \n",
      "Epoch: 8, step:  100 | loss: 0.136 | acc: 95.390 \n",
      "Epoch: 8, step:  200 | loss: 0.153 | acc: 94.370 \n",
      "Epoch: 8, step:  300 | loss: 0.137 | acc: 94.960 \n",
      "Epoch: 8, step:  400 | loss: 0.154 | acc: 94.430 \n",
      "Epoch: 9, step:  100 | loss: 0.157 | acc: 93.890 \n",
      "Epoch: 9, step:  200 | loss: 0.146 | acc: 94.880 \n",
      "Epoch: 9, step:  300 | loss: 0.134 | acc: 95.450 \n",
      "Epoch: 9, step:  400 | loss: 0.131 | acc: 95.130 \n",
      "Epoch: 10, step:  100 | loss: 0.140 | acc: 94.850 \n",
      "Epoch: 10, step:  200 | loss: 0.132 | acc: 95.420 \n",
      "Epoch: 10, step:  300 | loss: 0.152 | acc: 94.270 \n",
      "Epoch: 10, step:  400 | loss: 0.139 | acc: 94.660 \n",
      "Epoch: 11, step:  100 | loss: 0.147 | acc: 94.280 \n",
      "Epoch: 11, step:  200 | loss: 0.147 | acc: 94.790 \n",
      "Epoch: 11, step:  300 | loss: 0.126 | acc: 95.580 \n",
      "Epoch: 11, step:  400 | loss: 0.138 | acc: 94.640 \n",
      "Epoch: 12, step:  100 | loss: 0.145 | acc: 94.760 \n",
      "Epoch: 12, step:  200 | loss: 0.131 | acc: 95.250 \n",
      "Epoch: 12, step:  300 | loss: 0.135 | acc: 94.970 \n",
      "Epoch: 12, step:  400 | loss: 0.134 | acc: 94.970 \n",
      "Epoch: 13, step:  100 | loss: 0.132 | acc: 95.370 \n",
      "Epoch: 13, step:  200 | loss: 0.127 | acc: 95.020 \n",
      "Epoch: 13, step:  300 | loss: 0.144 | acc: 94.350 \n",
      "Epoch: 13, step:  400 | loss: 0.130 | acc: 95.240 \n",
      "Finished Training\n"
     ]
    }
   ],
   "source": [
    "net = Net()\n",
    "optimizer = optim.SGD(net.parameters(), lr=0.001, momentum=0.9)\n",
    "all_losses, all_accs = train(net, 13, optimizer, train = train_dataset, batch_size = BATCH_SIZE,\n",
    "                             eval_epochs = 0, use_wandb = False, all_losses = all_losses, all_accs = all_accs)"
   ]
  },
  {
   "cell_type": "code",
   "execution_count": 115,
   "metadata": {},
   "outputs": [
    {
     "name": "stdout",
     "output_type": "stream",
     "text": [
      "Epoch: 1, step:  100 | loss: 0.651 | acc: 75.700 \n",
      "Epoch: 1, step:  200 | loss: 0.469 | acc: 93.460 \n",
      "Epoch: 1, step:  300 | loss: 0.272 | acc: 93.430 \n",
      "Epoch: 1, step:  400 | loss: 0.200 | acc: 93.240 \n",
      "Epoch: 2, step:  100 | loss: 0.176 | acc: 93.940 \n",
      "Epoch: 2, step:  200 | loss: 0.172 | acc: 94.080 \n",
      "Epoch: 2, step:  300 | loss: 0.175 | acc: 93.790 \n",
      "Epoch: 2, step:  400 | loss: 0.183 | acc: 93.490 \n",
      "Epoch: 3, step:  100 | loss: 0.162 | acc: 94.010 \n",
      "Epoch: 3, step:  200 | loss: 0.166 | acc: 94.200 \n",
      "Epoch: 3, step:  300 | loss: 0.167 | acc: 93.730 \n",
      "Epoch: 3, step:  400 | loss: 0.161 | acc: 94.510 \n",
      "Epoch: 4, step:  100 | loss: 0.166 | acc: 93.920 \n",
      "Epoch: 4, step:  200 | loss: 0.147 | acc: 95.210 \n",
      "Epoch: 4, step:  300 | loss: 0.156 | acc: 94.040 \n",
      "Epoch: 4, step:  400 | loss: 0.161 | acc: 94.220 \n",
      "Epoch: 5, step:  100 | loss: 0.143 | acc: 94.560 \n",
      "Epoch: 5, step:  200 | loss: 0.157 | acc: 93.980 \n",
      "Epoch: 5, step:  300 | loss: 0.159 | acc: 94.120 \n",
      "Epoch: 5, step:  400 | loss: 0.150 | acc: 94.890 \n",
      "Epoch: 6, step:  100 | loss: 0.153 | acc: 94.370 \n",
      "Epoch: 6, step:  200 | loss: 0.148 | acc: 94.830 \n",
      "Epoch: 6, step:  300 | loss: 0.140 | acc: 94.850 \n",
      "Epoch: 6, step:  400 | loss: 0.154 | acc: 94.700 \n",
      "Epoch: 7, step:  100 | loss: 0.142 | acc: 95.050 \n",
      "Epoch: 7, step:  200 | loss: 0.153 | acc: 94.290 \n",
      "Epoch: 7, step:  300 | loss: 0.157 | acc: 94.480 \n",
      "Epoch: 7, step:  400 | loss: 0.134 | acc: 95.350 \n",
      "Epoch: 8, step:  100 | loss: 0.143 | acc: 94.610 \n",
      "Epoch: 8, step:  200 | loss: 0.140 | acc: 95.050 \n",
      "Epoch: 8, step:  300 | loss: 0.144 | acc: 94.690 \n",
      "Epoch: 8, step:  400 | loss: 0.147 | acc: 94.470 \n",
      "Epoch: 9, step:  100 | loss: 0.132 | acc: 95.210 \n",
      "Epoch: 9, step:  200 | loss: 0.137 | acc: 95.160 \n",
      "Epoch: 9, step:  300 | loss: 0.139 | acc: 95.040 \n",
      "Epoch: 9, step:  400 | loss: 0.151 | acc: 94.030 \n",
      "Epoch: 10, step:  100 | loss: 0.142 | acc: 94.770 \n",
      "Epoch: 10, step:  200 | loss: 0.132 | acc: 95.080 \n",
      "Epoch: 10, step:  300 | loss: 0.133 | acc: 95.030 \n",
      "Epoch: 10, step:  400 | loss: 0.151 | acc: 94.820 \n",
      "Epoch: 11, step:  100 | loss: 0.135 | acc: 95.490 \n",
      "Epoch: 11, step:  200 | loss: 0.133 | acc: 95.030 \n",
      "Epoch: 11, step:  300 | loss: 0.126 | acc: 94.870 \n",
      "Epoch: 11, step:  400 | loss: 0.156 | acc: 94.120 \n",
      "Epoch: 12, step:  100 | loss: 0.118 | acc: 95.790 \n",
      "Epoch: 12, step:  200 | loss: 0.140 | acc: 95.070 \n",
      "Epoch: 12, step:  300 | loss: 0.145 | acc: 94.470 \n",
      "Epoch: 12, step:  400 | loss: 0.141 | acc: 94.570 \n",
      "Epoch: 13, step:  100 | loss: 0.143 | acc: 94.450 \n",
      "Epoch: 13, step:  200 | loss: 0.131 | acc: 94.840 \n",
      "Epoch: 13, step:  300 | loss: 0.137 | acc: 94.670 \n",
      "Epoch: 13, step:  400 | loss: 0.121 | acc: 95.730 \n",
      "Finished Training\n"
     ]
    }
   ],
   "source": [
    "net = Net()\n",
    "optimizer = optim.SGD(net.parameters(), lr=0.001, momentum=0.9)\n",
    "all_losses, all_accs = train(net, 13, optimizer, train = train_dataset, batch_size = BATCH_SIZE,\n",
    "                             eval_epochs = 0, use_wandb = False, all_losses = all_losses, all_accs = all_accs)"
   ]
  },
  {
   "cell_type": "code",
   "execution_count": 17,
   "metadata": {},
   "outputs": [
    {
     "data": {
      "image/png": "[encoded data removed]",
      "text/plain": [
       "<Figure size 1008x432 with 2 Axes>"
      ]
     },
     "metadata": {},
     "output_type": "display_data"
    }
   ],
   "source": [
    "def plot_metric(metric_values):\n",
    "    plt.plot(np.arange(len(metric_values)), metric_values)\n",
    "plt.subplots(1,2, figsize=(14,6))\n",
    "plt.subplot(1,2,1)\n",
    "plot_metric(all_losses[-1])\n",
    "plt.subplot(1,2,2)\n",
    "plot_metric(all_accs[-1])"
   ]
  },
  {
   "cell_type": "code",
   "execution_count": 16,
   "metadata": {},
   "outputs": [
    {
     "name": "stdout",
     "output_type": "stream",
     "text": [
      "              precision    recall  f1-score   support\n",
      "\n",
      "           0       0.95      0.97      0.96      2111\n",
      "           1       0.97      0.95      0.96      2111\n",
      "\n",
      "    accuracy                           0.96      4222\n",
      "   macro avg       0.96      0.96      0.96      4222\n",
      "weighted avg       0.96      0.96      0.96      4222\n",
      "\n"
     ]
    },
    {
     "data": {
      "image/png": "[encoded data removed]",
      "text/plain": [
       "<Figure size 432x288 with 2 Axes>"
      ]
     },
     "metadata": {},
     "output_type": "display_data"
    },
    {
     "data": {
      "text/plain": [
       "<Figure size 720x720 with 0 Axes>"
      ]
     },
     "metadata": {},
     "output_type": "display_data"
    }
   ],
   "source": [
    "y_labels_list, y_pred_list = evaluation(net, test_dataset, batch_size = 1)\n",
    "metrics.plot_conf_matrix(y_labels_list, y_pred_list)"
   ]
  },
  {
   "cell_type": "code",
   "execution_count": 15,
   "metadata": {},
   "outputs": [
    {
     "data": {
      "text/plain": [
       "0.9585504500236854"
      ]
     },
     "execution_count": 15,
     "metadata": {},
     "output_type": "execute_result"
    }
   ],
   "source": [
    "roc_auc_score(y_labels_list, y_pred_list)"
   ]
  },
  {
   "cell_type": "code",
   "execution_count": null,
   "metadata": {},
   "outputs": [],
   "source": []
  }
 ],
 "metadata": {
  "kernelspec": {
   "display_name": "Python 3",
   "language": "python",
   "name": "python3"
  },
  "language_info": {
   "codemirror_mode": {
    "name": "ipython",
    "version": 3
   },
   "file_extension": ".py",
   "mimetype": "text/x-python",
   "name": "python",
   "nbconvert_exporter": "python",
   "pygments_lexer": "ipython3",
   "version": "3.7.6"
  }
 },
 "nbformat": 4,
 "nbformat_minor": 2
}
