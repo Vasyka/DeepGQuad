{
 "cells": [
  {
   "cell_type": "code",
   "execution_count": 3,
   "metadata": {},
   "outputs": [
    {
     "name": "stdout",
     "output_type": "stream",
     "text": [
      "1.5.0\n"
     ]
    },
    {
     "data": {
      "text/plain": [
       "['chr15.fa.fai', 'chr19.fa.fai', 'chr4.fa']"
      ]
     },
     "execution_count": 3,
     "metadata": {},
     "output_type": "execute_result"
    }
   ],
   "source": [
    "import os\n",
    "import numpy as np\n",
    "import pandas as pd\n",
    "import matplotlib.pyplot as plt\n",
    "from sklearn.metrics import *\n",
    "import seaborn as sns\n",
    "sns.set()\n",
    "%matplotlib inline\n",
    "\n",
    "#import tensorflow as tf\n",
    "import torch\n",
    "import torch.nn as nn\n",
    "import torch.nn.functional as F\n",
    "import torchvision.transforms as transforms\n",
    "from torch.utils.tensorboard import SummaryWriter\n",
    "\n",
    "import torch.optim as optim\n",
    "from torch.utils.data import DataLoader\n",
    "from torch.utils.data import Dataset\n",
    "\n",
    "from Bio import SeqIO\n",
    "from Bio.Seq import Seq\n",
    "from Bio.SeqRecord import SeqRecord\n",
    "from Bio.Alphabet import IUPAC\n",
    "print(torch.__version__)\n",
    "os.chdir('../Data')\n",
    "\n",
    "os.listdir()[:3]"
   ]
  },
  {
   "cell_type": "code",
   "execution_count": 1,
   "metadata": {},
   "outputs": [],
   "source": [
    "#%load_ext tensorboard\n",
    "#!tensorboard --logdir=logs"
   ]
  },
  {
   "cell_type": "code",
   "execution_count": 6,
   "metadata": {},
   "outputs": [
    {
     "name": "stdout",
     "output_type": "stream",
     "text": [
      "['chr1' 'chr2' 'chr3' 'chr4' 'chr5' 'chr6' 'chr7' 'chr8' 'chr9' 'chr10'\n",
      " 'chr11' 'chr12' 'chr13' 'chr14' 'chr15' 'chr16' 'chr17' 'chr18' 'chr19'\n",
      " 'chr20' 'chr21' 'chr22' 'chrM' 'chrX' 'chrY']\n",
      "(8955, 5)\n",
      "not longer than 500bp: 0.9711892797319933\n"
     ]
    },
    {
     "data": {
      "text/html": [
       "<div>\n",
       "<style scoped>\n",
       "    .dataframe tbody tr th:only-of-type {\n",
       "        vertical-align: middle;\n",
       "    }\n",
       "\n",
       "    .dataframe tbody tr th {\n",
       "        vertical-align: top;\n",
       "    }\n",
       "\n",
       "    .dataframe thead th {\n",
       "        text-align: right;\n",
       "    }\n",
       "</style>\n",
       "<table border=\"1\" class=\"dataframe\">\n",
       "  <thead>\n",
       "    <tr style=\"text-align: right;\">\n",
       "      <th></th>\n",
       "      <th>len</th>\n",
       "    </tr>\n",
       "  </thead>\n",
       "  <tbody>\n",
       "    <tr>\n",
       "      <th>count</th>\n",
       "      <td>8955.000000</td>\n",
       "    </tr>\n",
       "    <tr>\n",
       "      <th>mean</th>\n",
       "      <td>226.098157</td>\n",
       "    </tr>\n",
       "    <tr>\n",
       "      <th>std</th>\n",
       "      <td>132.413339</td>\n",
       "    </tr>\n",
       "    <tr>\n",
       "      <th>min</th>\n",
       "      <td>1.000000</td>\n",
       "    </tr>\n",
       "    <tr>\n",
       "      <th>25%</th>\n",
       "      <td>142.000000</td>\n",
       "    </tr>\n",
       "    <tr>\n",
       "      <th>50%</th>\n",
       "      <td>205.000000</td>\n",
       "    </tr>\n",
       "    <tr>\n",
       "      <th>75%</th>\n",
       "      <td>285.000000</td>\n",
       "    </tr>\n",
       "    <tr>\n",
       "      <th>max</th>\n",
       "      <td>5502.000000</td>\n",
       "    </tr>\n",
       "  </tbody>\n",
       "</table>\n",
       "</div>"
      ],
      "text/plain": [
       "               len\n",
       "count  8955.000000\n",
       "mean    226.098157\n",
       "std     132.413339\n",
       "min       1.000000\n",
       "25%     142.000000\n",
       "50%     205.000000\n",
       "75%     285.000000\n",
       "max    5502.000000"
      ]
     },
     "execution_count": 6,
     "metadata": {},
     "output_type": "execute_result"
    }
   ],
   "source": [
    "chromosomes = list(range(1,23)) + ['M','X','Y']\n",
    "data_full = merge_chrom_data('chr', chromosomes)\n",
    "print(data_full.shape)\n",
    "print('not longer than 500bp:', sum(data_full.len <= 500) / data_full.shape[0])\n",
    "pd.DataFrame(data_full.len.describe())"
   ]
  },
  {
   "cell_type": "code",
   "execution_count": 7,
   "metadata": {
    "scrolled": true
   },
   "outputs": [
    {
     "data": {
      "image/png": "[encoded data removed]",
      "text/plain": [
       "<Figure size 864x432 with 1 Axes>"
      ]
     },
     "metadata": {
      "needs_background": "light"
     },
     "output_type": "display_data"
    }
   ],
   "source": [
    "ax = data_full[data_full.len<1000].len.hist(bins=np.arange(data_full.len.min(),1000,30),figsize=(12,6))\n",
    "ax.set_ylabel('Количество G-квадруплексов')\n",
    "ax.set_xlabel('Длина участка')\n",
    "ax.set_title('Распределение длин G-квадруплексов')\n",
    "ax.axvline(500,color='r', linestyle='--')\n",
    "plt.savefig('../g_quadruplexes.png')"
   ]
  },
  {
   "cell_type": "code",
   "execution_count": 4,
   "metadata": {},
   "outputs": [
    {
     "name": "stdout",
     "output_type": "stream",
     "text": [
      "Start shape: (8955, 4)\n",
      "Final shape: (8697, 6)\n"
     ]
    },
    {
     "data": {
      "text/html": [
       "<div>\n",
       "<style scoped>\n",
       "    .dataframe tbody tr th:only-of-type {\n",
       "        vertical-align: middle;\n",
       "    }\n",
       "\n",
       "    .dataframe tbody tr th {\n",
       "        vertical-align: top;\n",
       "    }\n",
       "\n",
       "    .dataframe thead th {\n",
       "        text-align: right;\n",
       "    }\n",
       "</style>\n",
       "<table border=\"1\" class=\"dataframe\">\n",
       "  <thead>\n",
       "    <tr style=\"text-align: right;\">\n",
       "      <th></th>\n",
       "      <th>chr</th>\n",
       "      <th>start</th>\n",
       "      <th>end</th>\n",
       "      <th>len</th>\n",
       "      <th>new_start</th>\n",
       "      <th>new_end</th>\n",
       "    </tr>\n",
       "  </thead>\n",
       "  <tbody>\n",
       "    <tr>\n",
       "      <th>0</th>\n",
       "      <td>chr1</td>\n",
       "      <td>713977</td>\n",
       "      <td>714310</td>\n",
       "      <td>333</td>\n",
       "      <td>713894</td>\n",
       "      <td>714394</td>\n",
       "    </tr>\n",
       "    <tr>\n",
       "      <th>1</th>\n",
       "      <td>chr1</td>\n",
       "      <td>762850</td>\n",
       "      <td>762982</td>\n",
       "      <td>132</td>\n",
       "      <td>762666</td>\n",
       "      <td>763166</td>\n",
       "    </tr>\n",
       "    <tr>\n",
       "      <th>2</th>\n",
       "      <td>chr1</td>\n",
       "      <td>840076</td>\n",
       "      <td>840205</td>\n",
       "      <td>129</td>\n",
       "      <td>839891</td>\n",
       "      <td>840391</td>\n",
       "    </tr>\n",
       "    <tr>\n",
       "      <th>3</th>\n",
       "      <td>chr1</td>\n",
       "      <td>894635</td>\n",
       "      <td>894796</td>\n",
       "      <td>161</td>\n",
       "      <td>894466</td>\n",
       "      <td>894966</td>\n",
       "    </tr>\n",
       "    <tr>\n",
       "      <th>4</th>\n",
       "      <td>chr1</td>\n",
       "      <td>935414</td>\n",
       "      <td>935699</td>\n",
       "      <td>285</td>\n",
       "      <td>935307</td>\n",
       "      <td>935807</td>\n",
       "    </tr>\n",
       "  </tbody>\n",
       "</table>\n",
       "</div>"
      ],
      "text/plain": [
       "    chr   start     end  len  new_start  new_end\n",
       "0  chr1  713977  714310  333     713894   714394\n",
       "1  chr1  762850  762982  132     762666   763166\n",
       "2  chr1  840076  840205  129     839891   840391\n",
       "3  chr1  894635  894796  161     894466   894966\n",
       "4  chr1  935414  935699  285     935307   935807"
      ]
     },
     "execution_count": 4,
     "metadata": {},
     "output_type": "execute_result"
    }
   ],
   "source": [
    "# Center the sequences\n",
    "def center_seq(max_seq_len = 500):\n",
    "    gquad_places = pd.read_csv('G4_chip.bed', sep='\\t', header=None, names = ['chr','start','end'])\n",
    "    gquad_places['len'] = gquad_places.end - gquad_places.start\n",
    "    print('Start shape:', gquad_places.shape)\n",
    "    \n",
    "    gquad_places['new_start'] = 0\n",
    "    gquad_places['new_end'] = 0\n",
    "    for i, row in gquad_places.iterrows():\n",
    "        if row.len <= max_seq_len:\n",
    "            shift_l = int((max_seq_len - row.len) / 2)\n",
    "            shift_r = int((max_seq_len - row.len) / 2 + 0.5)\n",
    "            gquad_places.loc[i,'new_start'] = row.start - shift_l\n",
    "            gquad_places.loc[i,'new_end'] = row.end + shift_r\n",
    "        else:\n",
    "            gquad_places = gquad_places.drop(i, axis=0)\n",
    "    print('Final shape:',gquad_places.shape)\n",
    "    gquad_places[['chr','new_start','new_end']].to_csv('G4_chip_centered.bed', sep='\\t',header=False, index = False)\n",
    "    return gquad_places\n",
    "center_seq(500).head()"
   ]
  },
  {
   "cell_type": "code",
   "execution_count": 5,
   "metadata": {},
   "outputs": [
    {
     "name": "stdout",
     "output_type": "stream",
     "text": [
      "['chr1' 'chr2' 'chr3' 'chr4' 'chr5' 'chr6' 'chr7' 'chr8' 'chr9' 'chr10'\n",
      " 'chr11' 'chr12' 'chr13' 'chr14' 'chr15' 'chr16' 'chr17' 'chr18' 'chr19'\n",
      " 'chr20' 'chr21' 'chr22' 'chrM' 'chrX' 'chrY']\n"
     ]
    },
    {
     "data": {
      "text/html": [
       "<div>\n",
       "<style scoped>\n",
       "    .dataframe tbody tr th:only-of-type {\n",
       "        vertical-align: middle;\n",
       "    }\n",
       "\n",
       "    .dataframe tbody tr th {\n",
       "        vertical-align: top;\n",
       "    }\n",
       "\n",
       "    .dataframe thead th {\n",
       "        text-align: right;\n",
       "    }\n",
       "</style>\n",
       "<table border=\"1\" class=\"dataframe\">\n",
       "  <thead>\n",
       "    <tr style=\"text-align: right;\">\n",
       "      <th></th>\n",
       "      <th>chr</th>\n",
       "      <th>start</th>\n",
       "      <th>end</th>\n",
       "      <th>seq</th>\n",
       "      <th>len</th>\n",
       "    </tr>\n",
       "  </thead>\n",
       "  <tbody>\n",
       "    <tr>\n",
       "      <th>0</th>\n",
       "      <td>chr1</td>\n",
       "      <td>713894</td>\n",
       "      <td>714394</td>\n",
       "      <td>TTCAGCCGGCAACACACAGAACCTGGCGGGGAGGTCACTCTTACCA...</td>\n",
       "      <td>500</td>\n",
       "    </tr>\n",
       "    <tr>\n",
       "      <th>1</th>\n",
       "      <td>chr1</td>\n",
       "      <td>762666</td>\n",
       "      <td>763166</td>\n",
       "      <td>ACCGGACACAGACGCAGATCTGGCAGCTGAGCGACAGGCTTCGGAG...</td>\n",
       "      <td>500</td>\n",
       "    </tr>\n",
       "    <tr>\n",
       "      <th>2</th>\n",
       "      <td>chr1</td>\n",
       "      <td>839891</td>\n",
       "      <td>840391</td>\n",
       "      <td>ACGTGGCCTCCTCCGAACGCGGCCGCCTCCTCCTCCGAACGCGGCC...</td>\n",
       "      <td>500</td>\n",
       "    </tr>\n",
       "    <tr>\n",
       "      <th>3</th>\n",
       "      <td>chr1</td>\n",
       "      <td>894466</td>\n",
       "      <td>894966</td>\n",
       "      <td>GGTCACGCAGGAGTCACAGCTGCCCGCACGCCCAGCTCGCCCCAGC...</td>\n",
       "      <td>500</td>\n",
       "    </tr>\n",
       "    <tr>\n",
       "      <th>4</th>\n",
       "      <td>chr1</td>\n",
       "      <td>935307</td>\n",
       "      <td>935807</td>\n",
       "      <td>CTGCCATCGGCGAGGCGCTCGGTTTCCCCGGCGTGTCTGCGGCCAT...</td>\n",
       "      <td>500</td>\n",
       "    </tr>\n",
       "  </tbody>\n",
       "</table>\n",
       "</div>"
      ],
      "text/plain": [
       "    chr   start     end                                                seq  \\\n",
       "0  chr1  713894  714394  TTCAGCCGGCAACACACAGAACCTGGCGGGGAGGTCACTCTTACCA...   \n",
       "1  chr1  762666  763166  ACCGGACACAGACGCAGATCTGGCAGCTGAGCGACAGGCTTCGGAG...   \n",
       "2  chr1  839891  840391  ACGTGGCCTCCTCCGAACGCGGCCGCCTCCTCCTCCGAACGCGGCC...   \n",
       "3  chr1  894466  894966  GGTCACGCAGGAGTCACAGCTGCCCGCACGCCCAGCTCGCCCCAGC...   \n",
       "4  chr1  935307  935807  CTGCCATCGGCGAGGCGCTCGGTTTCCCCGGCGTGTCTGCGGCCAT...   \n",
       "\n",
       "   len  \n",
       "0  500  \n",
       "1  500  \n",
       "2  500  \n",
       "3  500  \n",
       "4  500  "
      ]
     },
     "execution_count": 5,
     "metadata": {},
     "output_type": "execute_result"
    }
   ],
   "source": [
    "# Load all data and merge chromosomes in 1 table\n",
    "def merge_chrom_data(file_name_start, chromosomes, file_name_end = ''):\n",
    "    columns = ['chr','start','end','seq']\n",
    "    data = pd.DataFrame()\n",
    "    for num in chromosomes:\n",
    "        chrom = pd.read_csv(f'{file_name_start}{num}{file_name_end}.bed',sep='\\t',header=None)\n",
    "        data = pd.concat([data, chrom])\n",
    "    data.columns=columns\n",
    "    data = data.reset_index(drop=True)\n",
    "    data['len'] = data.end - data.start\n",
    "\n",
    "    print(data.chr.unique())\n",
    "    return data\n",
    "\n",
    "chromosomes = list(range(1,23)) + ['M','X','Y']\n",
    "df = merge_chrom_data('chr', chromosomes, '_centered')\n",
    "df.head()"
   ]
  },
  {
   "cell_type": "code",
   "execution_count": 8,
   "metadata": {
    "collapsed": true
   },
   "outputs": [],
   "source": [
    "# Center the sequences\n",
    "# def center_seq(df, max_seq_len = 500):\n",
    "#     df['seq_centered'] = ''\n",
    "#     for i, row in df.iterrows():\n",
    "#         if row.len < max_seq_len:\n",
    "#             shift_l = int((max_seq_len - row.len) / 2)\n",
    "#             shift_r = int((max_seq_len - row.len) / 2 + 0.5)\n",
    "#             new_seq = 'N' * shift_l + row.seq + 'N' * shift_r\n",
    "#             df.loc[i,'seq_centered'] = new_seq\n",
    "#         else:\n",
    "#             df.loc[i,'seq_centered'] = row.seq\n",
    "#     return df\n",
    "# df = center_seq(df)"
   ]
  },
  {
   "cell_type": "code",
   "execution_count": 8,
   "metadata": {},
   "outputs": [
    {
     "name": "stdout",
     "output_type": "stream",
     "text": [
      "['chr1' 'chr2' 'chr3' 'chr4' 'chr5' 'chr6' 'chr7' 'chr8' 'chr9' 'chr10'\n",
      " 'chr11' 'chr12' 'chr13' 'chr14' 'chr15' 'chr16' 'chr17' 'chr18' 'chr19'\n",
      " 'chr20' 'chr21' 'chr22' 'chrM' 'chrX' 'chrY']\n"
     ]
    },
    {
     "data": {
      "text/html": [
       "<div>\n",
       "<style scoped>\n",
       "    .dataframe tbody tr th:only-of-type {\n",
       "        vertical-align: middle;\n",
       "    }\n",
       "\n",
       "    .dataframe tbody tr th {\n",
       "        vertical-align: top;\n",
       "    }\n",
       "\n",
       "    .dataframe thead th {\n",
       "        text-align: right;\n",
       "    }\n",
       "</style>\n",
       "<table border=\"1\" class=\"dataframe\">\n",
       "  <thead>\n",
       "    <tr style=\"text-align: right;\">\n",
       "      <th></th>\n",
       "      <th>chr</th>\n",
       "      <th>start</th>\n",
       "      <th>end</th>\n",
       "      <th>seq</th>\n",
       "      <th>len</th>\n",
       "    </tr>\n",
       "  </thead>\n",
       "  <tbody>\n",
       "    <tr>\n",
       "      <th>0</th>\n",
       "      <td>chr1</td>\n",
       "      <td>113133816</td>\n",
       "      <td>113134316</td>\n",
       "      <td>tgctgggattacaggtgtgagccaccacacccggccTAGTATGTTA...</td>\n",
       "      <td>500</td>\n",
       "    </tr>\n",
       "    <tr>\n",
       "      <th>1</th>\n",
       "      <td>chr1</td>\n",
       "      <td>180867994</td>\n",
       "      <td>180868494</td>\n",
       "      <td>ctttaaaatgcctttggtcccaagtctctgacaggagggtgaggtg...</td>\n",
       "      <td>500</td>\n",
       "    </tr>\n",
       "    <tr>\n",
       "      <th>2</th>\n",
       "      <td>chr1</td>\n",
       "      <td>95276940</td>\n",
       "      <td>95277440</td>\n",
       "      <td>gggcaaagaacccgcatcagcctgcctcatcattaaccctcaactg...</td>\n",
       "      <td>500</td>\n",
       "    </tr>\n",
       "    <tr>\n",
       "      <th>3</th>\n",
       "      <td>chr1</td>\n",
       "      <td>40094551</td>\n",
       "      <td>40095051</td>\n",
       "      <td>gcgtgagccaccgcgcccggccCGCTGTTTTTTTCTAACATTTGCT...</td>\n",
       "      <td>500</td>\n",
       "    </tr>\n",
       "    <tr>\n",
       "      <th>4</th>\n",
       "      <td>chr1</td>\n",
       "      <td>152882574</td>\n",
       "      <td>152883074</td>\n",
       "      <td>CAGAAAACCCAGAGCAGCAGCTTAAGCAGGAGAAAACACAAAGGGA...</td>\n",
       "      <td>500</td>\n",
       "    </tr>\n",
       "  </tbody>\n",
       "</table>\n",
       "</div>"
      ],
      "text/plain": [
       "    chr      start        end  \\\n",
       "0  chr1  113133816  113134316   \n",
       "1  chr1  180867994  180868494   \n",
       "2  chr1   95276940   95277440   \n",
       "3  chr1   40094551   40095051   \n",
       "4  chr1  152882574  152883074   \n",
       "\n",
       "                                                 seq  len  \n",
       "0  tgctgggattacaggtgtgagccaccacacccggccTAGTATGTTA...  500  \n",
       "1  ctttaaaatgcctttggtcccaagtctctgacaggagggtgaggtg...  500  \n",
       "2  gggcaaagaacccgcatcagcctgcctcatcattaaccctcaactg...  500  \n",
       "3  gcgtgagccaccgcgcccggccCGCTGTTTTTTTCTAACATTTGCT...  500  \n",
       "4  CAGAAAACCCAGAGCAGCAGCTTAAGCAGGAGAAAACACAAAGGGA...  500  "
      ]
     },
     "execution_count": 8,
     "metadata": {},
     "output_type": "execute_result"
    }
   ],
   "source": [
    "# Load shuffled data, drop sequences longer than 500, center sequences\n",
    "chromosomes = list(range(1,23)) + ['M','X','Y']\n",
    "shuf = merge_chrom_data('shuffled_chr', chromosomes)\n",
    "shuf.head()"
   ]
  },
  {
   "cell_type": "code",
   "execution_count": 9,
   "metadata": {
    "collapsed": true
   },
   "outputs": [],
   "source": [
    "# calc = {}\n",
    "# for i, row in shuf.iterrows():\n",
    "#     if 'N' in row.seq:\n",
    "#         if row.chr not in calc:\n",
    "#             calc[row.chr]=1\n",
    "#         else:\n",
    "#             calc[row.chr]+=1\n",
    "# print(calc)"
   ]
  },
  {
   "cell_type": "code",
   "execution_count": 10,
   "metadata": {
    "collapsed": true
   },
   "outputs": [],
   "source": [
    "# Split to test & train\n",
    "test_chromosomes_list = [3,6,9,12,15,18,21]\n",
    "test_chromosomes = list(map(lambda n:'chr'+str(n),test_chromosomes_list))\n",
    "specific_chromosomes = ['chrX','chrM','chrY']\n",
    "\n",
    "shuf['label'] = 0\n",
    "test_shuf = shuf[shuf.chr.isin(test_chromosomes)]\n",
    "train_shuf = shuf[~shuf.chr.isin(test_chromosomes + specific_chromosomes)]\n",
    "\n",
    "df['label'] = 1\n",
    "test_data = df[df.chr.isin(test_chromosomes)]\n",
    "train_data = df[~df.chr.isin(test_chromosomes + specific_chromosomes)]\n",
    "\n",
    "train = pd.concat([train_data,train_shuf]).reset_index(drop=True)\n",
    "test = pd.concat([test_data,test_shuf]).reset_index(drop=True)"
   ]
  },
  {
   "cell_type": "code",
   "execution_count": 11,
   "metadata": {
    "collapsed": true
   },
   "outputs": [],
   "source": [
    "def encode_seq(sequences):\n",
    "    encoder = {'A':[0,0,0,1],'T':[0,0,1,0],'G':[0,1,0,0],'C':[1,0,0,0],'N':[0,0,0,0]}\n",
    "    \n",
    "    encoded_seqs = []\n",
    "    for seq in sequences:\n",
    "        encoded_seq = list(map(lambda nucl: encoder[nucl], seq.upper()))\n",
    "        encoded_seqs.append(encoded_seq)\n",
    "    return encoded_seqs"
   ]
  },
  {
   "cell_type": "code",
   "execution_count": 12,
   "metadata": {
    "collapsed": true
   },
   "outputs": [],
   "source": [
    "# Shuffle train & test\n",
    "#train = train.sample(frac=1,random_state=42).reset_index(drop=True)\n",
    "#test = test.sample(frac=1,random_state=42).reset_index(drop=True)\n",
    "\n",
    "# Get X & y\n",
    "train_X = encode_seq(train.seq)#.to_list()\n",
    "test_X = encode_seq(test.seq)#.to_list()\n",
    "train_y = train.label#.to_list()\n",
    "test_y = test.label#.to_list()"
   ]
  },
  {
   "cell_type": "code",
   "execution_count": 13,
   "metadata": {},
   "outputs": [
    {
     "data": {
      "text/plain": [
       "(4222,)"
      ]
     },
     "execution_count": 13,
     "metadata": {},
     "output_type": "execute_result"
    }
   ],
   "source": [
    "np.array(test_y).shape"
   ]
  },
  {
   "cell_type": "code",
   "execution_count": 57,
   "metadata": {
    "collapsed": true
   },
   "outputs": [],
   "source": [
    "def get_device():\n",
    "    if torch.cuda.is_available():\n",
    "        device = 'cuda:0'\n",
    "    else:\n",
    "        device = 'cpu'\n",
    "    return device\n",
    "device = get_device()\n",
    "\n",
    "class SimpleSeqsDataset(Dataset):\n",
    "    def __init__(self, seqs, labels=None, transforms=None):\n",
    "        self.X = seqs\n",
    "        self.y = labels\n",
    "        self.transforms = transforms\n",
    "        \n",
    "    def __len__(self):\n",
    "        return (len(self.X))\n",
    "    \n",
    "    def __getitem__(self, i):\n",
    "        data = self.X[i]\n",
    "        data = np.asarray(data)\n",
    "        \n",
    "        data = torch.from_numpy(data).type(torch.FloatTensor).permute(1,0)\n",
    "            \n",
    "        if self.y is not None:\n",
    "            return (data, self.y[i])\n",
    "        else:\n",
    "            return data\n",
    "        \n",
    "BATCH_SIZE = 32\n",
    "#transform = transforms.Compose([transforms.ToTensor()])\n",
    "     \n",
    "     \n",
    "train_dataset = SimpleSeqsDataset(train_X, train_y)\n",
    "test_dataset = SimpleSeqsDataset(test_X, test_y)\n",
    "\n",
    "train_loader = DataLoader(train_dataset,batch_size=BATCH_SIZE,shuffle=True)\n",
    "test_loader = DataLoader(test_dataset,batch_size=1,shuffle=True)\n",
    "\n",
    "batch_num = len(train_X)//BATCH_SIZE"
   ]
  },
  {
   "cell_type": "code",
   "execution_count": 58,
   "metadata": {},
   "outputs": [
    {
     "data": {
      "text/plain": [
       "tensor([[0., 0., 0.,  ..., 1., 0., 0.],\n",
       "        [1., 1., 0.,  ..., 0., 0., 0.],\n",
       "        [0., 0., 1.,  ..., 0., 0., 0.],\n",
       "        [0., 0., 0.,  ..., 0., 1., 1.]])"
      ]
     },
     "execution_count": 58,
     "metadata": {},
     "output_type": "execute_result"
    }
   ],
   "source": [
    "train_dataset.__getitem__(3)[0]"
   ]
  },
  {
   "cell_type": "code",
   "execution_count": 67,
   "metadata": {
    "collapsed": true
   },
   "outputs": [],
   "source": [
    "all_losses = []\n",
    "all_accs = []"
   ]
  },
  {
   "cell_type": "code",
   "execution_count": 140,
   "metadata": {},
   "outputs": [
    {
     "name": "stdout",
     "output_type": "stream",
     "text": [
      "Net(\n",
      "  (conv1): Conv1d(4, 16, kernel_size=(5,), stride=(1,))\n",
      "  (pool): MaxPool1d(kernel_size=5, stride=5, padding=0, dilation=1, ceil_mode=False)\n",
      "  (fc1): Linear(in_features=1584, out_features=128, bias=True)\n",
      "  (fc2): Linear(in_features=128, out_features=1, bias=True)\n",
      ")\n"
     ]
    }
   ],
   "source": [
    "class Net(nn.Module):\n",
    "    def __init__(self):\n",
    "        super(Net, self).__init__()\n",
    "        self.conv1 = nn.Conv1d(in_channels=4,out_channels=16, kernel_size=5)\n",
    "        self.pool = nn.MaxPool1d(5)\n",
    "        self.fc1 = nn.Linear(16*99, 128)\n",
    "        self.fc2 = nn.Linear(128, 1)\n",
    "\n",
    "    def forward(self, x):\n",
    "        x = F.relu(self.conv1(x))\n",
    "        x = self.pool(x)\n",
    "        x = x.view(-1, 16*99)\n",
    "        x = F.relu(self.fc1(x))\n",
    "        x = torch.sigmoid(self.fc2(x))\n",
    "        return x\n",
    "\n",
    "\n",
    "net = Net()\n",
    "criterion = nn.BCELoss()\n",
    "optimizer = optim.SGD(net.parameters(), lr=0.001, momentum=0.9)\n",
    "#writer = SummaryWriter()\n",
    "print(net)"
   ]
  },
  {
   "cell_type": "code",
   "execution_count": 141,
   "metadata": {},
   "outputs": [
    {
     "name": "stdout",
     "output_type": "stream",
     "text": [
      "[1,   100] loss: 0.663 acc: 74.280\n",
      "[1,   200] loss: 0.560 acc: 91.150\n",
      "[1,   300] loss: 0.342 acc: 93.120\n",
      "[1,   400] loss: 0.227 acc: 93.540\n",
      "[2,   100] loss: 0.193 acc: 93.810\n",
      "[2,   200] loss: 0.192 acc: 93.380\n",
      "[2,   300] loss: 0.174 acc: 93.560\n",
      "[2,   400] loss: 0.155 acc: 94.460\n",
      "[3,   100] loss: 0.157 acc: 94.260\n",
      "[3,   200] loss: 0.170 acc: 94.080\n",
      "[3,   300] loss: 0.157 acc: 94.180\n",
      "[3,   400] loss: 0.172 acc: 94.010\n",
      "[4,   100] loss: 0.162 acc: 94.320\n",
      "[4,   200] loss: 0.157 acc: 94.560\n",
      "[4,   300] loss: 0.145 acc: 94.820\n",
      "[4,   400] loss: 0.171 acc: 93.610\n",
      "[5,   100] loss: 0.148 acc: 95.150\n",
      "[5,   200] loss: 0.142 acc: 94.890\n",
      "[5,   300] loss: 0.156 acc: 94.460\n",
      "[5,   400] loss: 0.167 acc: 94.050\n",
      "[6,   100] loss: 0.140 acc: 94.810\n",
      "[6,   200] loss: 0.145 acc: 94.550\n",
      "[6,   300] loss: 0.159 acc: 94.250\n",
      "[6,   400] loss: 0.157 acc: 94.150\n",
      "[7,   100] loss: 0.143 acc: 94.660\n",
      "[7,   200] loss: 0.148 acc: 94.370\n",
      "[7,   300] loss: 0.139 acc: 94.690\n",
      "[7,   400] loss: 0.157 acc: 94.330\n",
      "[8,   100] loss: 0.135 acc: 94.900\n",
      "[8,   200] loss: 0.165 acc: 93.690\n",
      "[8,   300] loss: 0.135 acc: 95.080\n",
      "[8,   400] loss: 0.150 acc: 93.980\n",
      "[9,   100] loss: 0.145 acc: 94.590\n",
      "[9,   200] loss: 0.140 acc: 94.870\n",
      "[9,   300] loss: 0.144 acc: 94.620\n",
      "[9,   400] loss: 0.140 acc: 94.720\n",
      "[10,   100] loss: 0.135 acc: 94.990\n",
      "[10,   200] loss: 0.136 acc: 94.650\n",
      "[10,   300] loss: 0.164 acc: 93.730\n",
      "[10,   400] loss: 0.120 acc: 96.090\n",
      "Finished Training\n"
     ]
    }
   ],
   "source": [
    "def binary_acc(y_pred, y_test):\n",
    "    y_pred_tag = torch.round(y_pred)\n",
    "\n",
    "    correct_results_sum = (y_pred_tag == y_test).sum().float()\n",
    "    acc = correct_results_sum/y_test.shape[0]\n",
    "    acc = torch.round(acc * 100)\n",
    "    \n",
    "    return acc\n",
    "\n",
    "# Train \n",
    "model_losses = []\n",
    "model_accs = []\n",
    "for epoch in range(10):  \n",
    "\n",
    "    running_loss = 0.0\n",
    "    running_acc = 0.0\n",
    "    avg_loss = 0.0\n",
    "    avg_acc = 0.0\n",
    "    for i, data in enumerate(train_loader, 0):\n",
    "        # get the inputs; data is a list of [inputs, labels]\n",
    "        inputs, labels = data[0].to(device), data[1].type(torch.FloatTensor).unsqueeze(1).to(device) #non_blocking=True)\n",
    "        \n",
    "\n",
    "        # zero the parameter gradients\n",
    "        optimizer.zero_grad()\n",
    "\n",
    "        outputs = net(inputs)\n",
    "        loss = criterion(outputs, labels)\n",
    "        acc = binary_acc(outputs, labels)\n",
    "        loss.backward()\n",
    "        optimizer.step()\n",
    "\n",
    "        # print statistics\n",
    "        running_loss += loss.item()\n",
    "        running_acc += acc.item()\n",
    "        if i % 100 == 99:    \n",
    "            print('[%d, %5d] loss: %.3f acc: %.3f' %\n",
    "                  (epoch + 1, i + 1, running_loss / 100, running_acc / 100))\n",
    "            model_losses.append(running_loss / 100)\n",
    "            model_accs.append(running_acc / 100)\n",
    "            running_loss = 0.0\n",
    "            running_acc = 0.0\n",
    "all_losses.append(model_losses)\n",
    "all_accs.append(model_accs)\n",
    "print('Finished Training')"
   ]
  },
  {
   "cell_type": "code",
   "execution_count": 142,
   "metadata": {},
   "outputs": [
    {
     "data": {
      "image/png": "[encoded data removed]",
      "text/plain": [
       "<Figure size 1008x432 with 2 Axes>"
      ]
     },
     "metadata": {},
     "output_type": "display_data"
    }
   ],
   "source": [
    "def plot_metric(metric_values):\n",
    "    plt.plot(np.arange(len(metric_values)), metric_values)\n",
    "plt.subplots(1,2, figsize=(14,6))\n",
    "plt.subplot(1,2,1)\n",
    "plot_metric(all_losses[0])\n",
    "plt.subplot(1,2,2)\n",
    "plot_metric(all_accs[-1])"
   ]
  },
  {
   "cell_type": "code",
   "execution_count": 143,
   "metadata": {
    "collapsed": true
   },
   "outputs": [],
   "source": [
    "# Test\n",
    "def test(net, test_loader):\n",
    "    y_pred_list = []\n",
    "    y_labels_list=[]\n",
    "    with torch.no_grad():\n",
    "        for data in test_loader:\n",
    "            inputs, labels = data[0].to(device), data[1].to(device) #non_blocking=True)\n",
    "            outputs = net(inputs)\n",
    "            #print(outputs)\n",
    "            outputs = torch.round(outputs)\n",
    "            y_pred_list.append(outputs.cpu().numpy())\n",
    "            y_labels_list.append(labels.cpu().numpy())\n",
    "    y_pred_list = [a.squeeze().tolist() for a in y_pred_list]\n",
    "    y_labels_list = [a.squeeze().tolist() for a in y_labels_list]\n",
    "    return(y_labels_list, y_pred_list)\n",
    "        \n",
    "y_labels_list, y_pred_list = test(net, test_loader)"
   ]
  },
  {
   "cell_type": "code",
   "execution_count": 144,
   "metadata": {
    "scrolled": true
   },
   "outputs": [
    {
     "name": "stdout",
     "output_type": "stream",
     "text": [
      "              precision    recall  f1-score   support\n",
      "\n",
      "           0       0.94      0.97      0.96      2111\n",
      "           1       0.97      0.94      0.96      2111\n",
      "\n",
      "    accuracy                           0.96      4222\n",
      "   macro avg       0.96      0.96      0.96      4222\n",
      "weighted avg       0.96      0.96      0.96      4222\n",
      "\n"
     ]
    },
    {
     "data": {
      "image/png": "[encoded data removed]",
      "text/plain": [
       "<Figure size 432x288 with 2 Axes>"
      ]
     },
     "metadata": {},
     "output_type": "display_data"
    },
    {
     "data": {
      "text/plain": [
       "<Figure size 720x720 with 0 Axes>"
      ]
     },
     "metadata": {},
     "output_type": "display_data"
    }
   ],
   "source": [
    "def plot_conf_matrix(y_true, y_pred):\n",
    "    print(classification_report(y_labels_list, y_pred_list))\n",
    "    cf = pd.DataFrame(confusion_matrix(y_true, y_pred))\n",
    "    ax= plt.subplot()\n",
    "    plt.figure(figsize=(10,10))\n",
    "    sns.set(font_scale=1.4)\n",
    "\n",
    "    sns.heatmap(cf, annot=True, ax = ax,cmap='Blues',fmt='d')\n",
    "    ax.set_ylabel('Actual')\n",
    "    ax.set_xlabel('Predicted')\n",
    "    ax.set_ylim([0,2])\n",
    "    return \n",
    "plot_conf_matrix(y_labels_list, y_pred_list)"
   ]
  },
  {
   "cell_type": "code",
   "execution_count": 145,
   "metadata": {},
   "outputs": [
    {
     "data": {
      "text/plain": [
       "0.9557081951681667"
      ]
     },
     "execution_count": 145,
     "metadata": {},
     "output_type": "execute_result"
    }
   ],
   "source": [
    "roc_auc_score(y_labels_list, y_pred_list)"
   ]
  },
  {
   "cell_type": "code",
   "execution_count": null,
   "metadata": {
    "collapsed": true
   },
   "outputs": [],
   "source": []
  }
 ],
 "metadata": {
  "kernelspec": {
   "display_name": "Python 3",
   "language": "python",
   "name": "python3"
  },
  "language_info": {
   "codemirror_mode": {
    "name": "ipython",
    "version": 3
   },
   "file_extension": ".py",
   "mimetype": "text/x-python",
   "name": "python",
   "nbconvert_exporter": "python",
   "pygments_lexer": "ipython3",
   "version": "3.7.6"
  }
 },
 "nbformat": 4,
 "nbformat_minor": 2
}
