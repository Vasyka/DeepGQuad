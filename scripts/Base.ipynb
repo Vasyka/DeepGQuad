{
 "cells": [
  {
   "cell_type": "code",
   "execution_count": 469,
   "metadata": {},
   "outputs": [
    {
     "name": "stdout",
     "output_type": "stream",
     "text": [
      "0.4.0\n"
     ]
    },
    {
     "data": {
      "text/plain": [
       "['chr15.fa.fai', 'chr19.fa.fai', 'chr4.fa']"
      ]
     },
     "execution_count": 469,
     "metadata": {},
     "output_type": "execute_result"
    }
   ],
   "source": [
    "import os\n",
    "import numpy as np\n",
    "import pandas as pd\n",
    "import matplotlib.pyplot as plt\n",
    "from sklearn.metrics import *\n",
    "import seaborn as sns\n",
    "sns.set()\n",
    "%matplotlib inline\n",
    "\n",
    "#import tensorflow as tf\n",
    "import torch\n",
    "import torch.nn as nn\n",
    "import torch.nn.functional as F\n",
    "import torchvision.transforms as transforms\n",
    "\n",
    "import torch.optim as optim\n",
    "from torch.utils.data import DataLoader\n",
    "from torch.utils.data import Dataset\n",
    "\n",
    "from Bio import SeqIO\n",
    "from Bio.Seq import Seq\n",
    "from Bio.SeqRecord import SeqRecord\n",
    "from Bio.Alphabet import IUPAC\n",
    "print(torch.__version__)\n",
    "os.chdir('/Users/Aska/Documents/Data')\n",
    "\n",
    "os.listdir()[:3]"
   ]
  },
  {
   "cell_type": "code",
   "execution_count": 471,
   "metadata": {},
   "outputs": [
    {
     "name": "stdout",
     "output_type": "stream",
     "text": [
      "['chr1' 'chr2' 'chr3' 'chr4' 'chr5' 'chr6' 'chr7' 'chr8' 'chr9' 'chr10'\n",
      " 'chr11' 'chr12' 'chr13' 'chr14' 'chr15' 'chr16' 'chr17' 'chr18' 'chr19'\n",
      " 'chr20' 'chr21' 'chr22' 'chrM' 'chrX' 'chrY']\n"
     ]
    },
    {
     "data": {
      "text/html": [
       "<div>\n",
       "<style scoped>\n",
       "    .dataframe tbody tr th:only-of-type {\n",
       "        vertical-align: middle;\n",
       "    }\n",
       "\n",
       "    .dataframe tbody tr th {\n",
       "        vertical-align: top;\n",
       "    }\n",
       "\n",
       "    .dataframe thead th {\n",
       "        text-align: right;\n",
       "    }\n",
       "</style>\n",
       "<table border=\"1\" class=\"dataframe\">\n",
       "  <thead>\n",
       "    <tr style=\"text-align: right;\">\n",
       "      <th></th>\n",
       "      <th>chr</th>\n",
       "      <th>start</th>\n",
       "      <th>end</th>\n",
       "      <th>seq</th>\n",
       "      <th>len</th>\n",
       "    </tr>\n",
       "  </thead>\n",
       "  <tbody>\n",
       "    <tr>\n",
       "      <th>0</th>\n",
       "      <td>chr1</td>\n",
       "      <td>713977</td>\n",
       "      <td>714310</td>\n",
       "      <td>ACCATGGCGCCCCAGTGATGTAGCCGAACACCCGCGCCTCTAACGT...</td>\n",
       "      <td>333</td>\n",
       "    </tr>\n",
       "    <tr>\n",
       "      <th>1</th>\n",
       "      <td>chr1</td>\n",
       "      <td>762850</td>\n",
       "      <td>762982</td>\n",
       "      <td>GGAGGGCACTCACCCGAGCGGACCTTGGCTCCGGATAATCCGTTTC...</td>\n",
       "      <td>132</td>\n",
       "    </tr>\n",
       "    <tr>\n",
       "      <th>2</th>\n",
       "      <td>chr1</td>\n",
       "      <td>840076</td>\n",
       "      <td>840205</td>\n",
       "      <td>gccgcctccgaacgtggccgccgcctcctccgaacgtggccgcttc...</td>\n",
       "      <td>129</td>\n",
       "    </tr>\n",
       "    <tr>\n",
       "      <th>3</th>\n",
       "      <td>chr1</td>\n",
       "      <td>894635</td>\n",
       "      <td>894796</td>\n",
       "      <td>CGTGCACCCCACTTCCGGCCCCAGAATGCCGCGCGGCTGCGCACTT...</td>\n",
       "      <td>161</td>\n",
       "    </tr>\n",
       "    <tr>\n",
       "      <th>4</th>\n",
       "      <td>chr1</td>\n",
       "      <td>935414</td>\n",
       "      <td>935699</td>\n",
       "      <td>GCGGGCGAGCGGCGAGCGCGCGGCGATCCGAGCCCCTAGGGCGGAT...</td>\n",
       "      <td>285</td>\n",
       "    </tr>\n",
       "  </tbody>\n",
       "</table>\n",
       "</div>"
      ],
      "text/plain": [
       "    chr   start     end                                                seq  \\\n",
       "0  chr1  713977  714310  ACCATGGCGCCCCAGTGATGTAGCCGAACACCCGCGCCTCTAACGT...   \n",
       "1  chr1  762850  762982  GGAGGGCACTCACCCGAGCGGACCTTGGCTCCGGATAATCCGTTTC...   \n",
       "2  chr1  840076  840205  gccgcctccgaacgtggccgccgcctcctccgaacgtggccgcttc...   \n",
       "3  chr1  894635  894796  CGTGCACCCCACTTCCGGCCCCAGAATGCCGCGCGGCTGCGCACTT...   \n",
       "4  chr1  935414  935699  GCGGGCGAGCGGCGAGCGCGCGGCGATCCGAGCCCCTAGGGCGGAT...   \n",
       "\n",
       "   len  \n",
       "0  333  \n",
       "1  132  \n",
       "2  129  \n",
       "3  161  \n",
       "4  285  "
      ]
     },
     "execution_count": 471,
     "metadata": {},
     "output_type": "execute_result"
    }
   ],
   "source": [
    "# Load all data and merge chromosomes in 1 table\n",
    "def merge_chrom_data(file_name_start, chromosomes):\n",
    "    columns = ['chr','start','end','seq']\n",
    "    data = pd.DataFrame()\n",
    "    for num in chromosomes:\n",
    "        chrom = pd.read_csv(f'{file_name_start}{num}.bed',sep='\\t',header=None)\n",
    "        data = pd.concat([data, chrom])\n",
    "    data.columns=columns\n",
    "    data = data.reset_index(drop=True)\n",
    "    data['len'] = data.end - data.start\n",
    "\n",
    "    print(data.chr.unique())\n",
    "    return data\n",
    "\n",
    "chromosomes = list(range(1,23)) + ['M','X','Y']\n",
    "data = merge_chrom_data('chr', chromosomes)\n",
    "data.head()"
   ]
  },
  {
   "cell_type": "code",
   "execution_count": 472,
   "metadata": {},
   "outputs": [
    {
     "name": "stdout",
     "output_type": "stream",
     "text": [
      "not longer than 500bp: 0.9711892797319933\n"
     ]
    },
    {
     "data": {
      "text/plain": [
       "count    8955.000000\n",
       "mean      226.098157\n",
       "std       132.413339\n",
       "min         1.000000\n",
       "25%       142.000000\n",
       "50%       205.000000\n",
       "75%       285.000000\n",
       "max      5502.000000\n",
       "Name: len, dtype: float64"
      ]
     },
     "execution_count": 472,
     "metadata": {},
     "output_type": "execute_result"
    }
   ],
   "source": [
    "print('not longer than 500bp:', sum(data.len <= 500) / data.shape[0])\n",
    "data.len.describe()"
   ]
  },
  {
   "cell_type": "code",
   "execution_count": 473,
   "metadata": {},
   "outputs": [
    {
     "data": {
      "text/plain": [
       "<matplotlib.axes._subplots.AxesSubplot at 0x153de4438>"
      ]
     },
     "execution_count": 473,
     "metadata": {},
     "output_type": "execute_result"
    },
    {
     "data": {
      "image/png": "[encoded data removed]",
      "text/plain": [
       "<Figure size 864x432 with 1 Axes>"
      ]
     },
     "metadata": {},
     "output_type": "display_data"
    }
   ],
   "source": [
    "data.len.hist(bins=np.arange(data.len.min(),data.len.max(),70),figsize=(12,6))"
   ]
  },
  {
   "cell_type": "code",
   "execution_count": 474,
   "metadata": {},
   "outputs": [
    {
     "name": "stdout",
     "output_type": "stream",
     "text": [
      "(8697, 5)\n"
     ]
    },
    {
     "data": {
      "text/html": [
       "<div>\n",
       "<style scoped>\n",
       "    .dataframe tbody tr th:only-of-type {\n",
       "        vertical-align: middle;\n",
       "    }\n",
       "\n",
       "    .dataframe tbody tr th {\n",
       "        vertical-align: top;\n",
       "    }\n",
       "\n",
       "    .dataframe thead th {\n",
       "        text-align: right;\n",
       "    }\n",
       "</style>\n",
       "<table border=\"1\" class=\"dataframe\">\n",
       "  <thead>\n",
       "    <tr style=\"text-align: right;\">\n",
       "      <th></th>\n",
       "      <th>chr</th>\n",
       "      <th>start</th>\n",
       "      <th>end</th>\n",
       "      <th>seq</th>\n",
       "      <th>len</th>\n",
       "    </tr>\n",
       "  </thead>\n",
       "  <tbody>\n",
       "    <tr>\n",
       "      <th>0</th>\n",
       "      <td>chr1</td>\n",
       "      <td>713977</td>\n",
       "      <td>714310</td>\n",
       "      <td>ACCATGGCGCCCCAGTGATGTAGCCGAACACCCGCGCCTCTAACGT...</td>\n",
       "      <td>333</td>\n",
       "    </tr>\n",
       "    <tr>\n",
       "      <th>1</th>\n",
       "      <td>chr1</td>\n",
       "      <td>762850</td>\n",
       "      <td>762982</td>\n",
       "      <td>GGAGGGCACTCACCCGAGCGGACCTTGGCTCCGGATAATCCGTTTC...</td>\n",
       "      <td>132</td>\n",
       "    </tr>\n",
       "    <tr>\n",
       "      <th>2</th>\n",
       "      <td>chr1</td>\n",
       "      <td>840076</td>\n",
       "      <td>840205</td>\n",
       "      <td>gccgcctccgaacgtggccgccgcctcctccgaacgtggccgcttc...</td>\n",
       "      <td>129</td>\n",
       "    </tr>\n",
       "    <tr>\n",
       "      <th>3</th>\n",
       "      <td>chr1</td>\n",
       "      <td>894635</td>\n",
       "      <td>894796</td>\n",
       "      <td>CGTGCACCCCACTTCCGGCCCCAGAATGCCGCGCGGCTGCGCACTT...</td>\n",
       "      <td>161</td>\n",
       "    </tr>\n",
       "    <tr>\n",
       "      <th>4</th>\n",
       "      <td>chr1</td>\n",
       "      <td>935414</td>\n",
       "      <td>935699</td>\n",
       "      <td>GCGGGCGAGCGGCGAGCGCGCGGCGATCCGAGCCCCTAGGGCGGAT...</td>\n",
       "      <td>285</td>\n",
       "    </tr>\n",
       "  </tbody>\n",
       "</table>\n",
       "</div>"
      ],
      "text/plain": [
       "    chr   start     end                                                seq  \\\n",
       "0  chr1  713977  714310  ACCATGGCGCCCCAGTGATGTAGCCGAACACCCGCGCCTCTAACGT...   \n",
       "1  chr1  762850  762982  GGAGGGCACTCACCCGAGCGGACCTTGGCTCCGGATAATCCGTTTC...   \n",
       "2  chr1  840076  840205  gccgcctccgaacgtggccgccgcctcctccgaacgtggccgcttc...   \n",
       "3  chr1  894635  894796  CGTGCACCCCACTTCCGGCCCCAGAATGCCGCGCGGCTGCGCACTT...   \n",
       "4  chr1  935414  935699  GCGGGCGAGCGGCGAGCGCGCGGCGATCCGAGCCCCTAGGGCGGAT...   \n",
       "\n",
       "   len  \n",
       "0  333  \n",
       "1  132  \n",
       "2  129  \n",
       "3  161  \n",
       "4  285  "
      ]
     },
     "execution_count": 474,
     "metadata": {},
     "output_type": "execute_result"
    }
   ],
   "source": [
    "# Drop sequences longer than 500\n",
    "df = data[data.len <= 500].copy()\n",
    "print(df.shape)\n",
    "df.head()"
   ]
  },
  {
   "cell_type": "code",
   "execution_count": 138,
   "metadata": {},
   "outputs": [],
   "source": [
    "# Center the sequences\n",
    "def center_seq(df, max_seq_len = 500):\n",
    "    df['seq_centered'] = ''\n",
    "    for i, row in df.iterrows():\n",
    "        if row.len < max_seq_len:\n",
    "            shift_l = int((max_seq_len - row.len) / 2)\n",
    "            shift_r = int((max_seq_len - row.len) / 2 + 0.5)\n",
    "            new_seq = 'N' * shift_l + row.seq + 'N' * shift_r\n",
    "            df.loc[i,'seq_centered'] = new_seq\n",
    "        else:\n",
    "            df.loc[i,'seq_centered'] = row.seq\n",
    "    return df\n",
    "df = center_seq(df)"
   ]
  },
  {
   "cell_type": "code",
   "execution_count": 139,
   "metadata": {},
   "outputs": [
    {
     "data": {
      "text/html": [
       "<div>\n",
       "<style scoped>\n",
       "    .dataframe tbody tr th:only-of-type {\n",
       "        vertical-align: middle;\n",
       "    }\n",
       "\n",
       "    .dataframe tbody tr th {\n",
       "        vertical-align: top;\n",
       "    }\n",
       "\n",
       "    .dataframe thead th {\n",
       "        text-align: right;\n",
       "    }\n",
       "</style>\n",
       "<table border=\"1\" class=\"dataframe\">\n",
       "  <thead>\n",
       "    <tr style=\"text-align: right;\">\n",
       "      <th></th>\n",
       "      <th>chr</th>\n",
       "      <th>start</th>\n",
       "      <th>end</th>\n",
       "      <th>seq</th>\n",
       "      <th>len</th>\n",
       "      <th>seq_centered</th>\n",
       "    </tr>\n",
       "  </thead>\n",
       "  <tbody>\n",
       "    <tr>\n",
       "      <th>8950</th>\n",
       "      <td>chrX</td>\n",
       "      <td>154255314</td>\n",
       "      <td>154255500</td>\n",
       "      <td>CAAGCTCACCGAAATGGCCGCGTCCAGTCAAGGTAAgggcgggcgc...</td>\n",
       "      <td>186</td>\n",
       "      <td>NNNNNNNNNNNNNNNNNNNNNNNNNNNNNNNNNNNNNNNNNNNNNN...</td>\n",
       "    </tr>\n",
       "    <tr>\n",
       "      <th>8951</th>\n",
       "      <td>chrX</td>\n",
       "      <td>154299329</td>\n",
       "      <td>154299829</td>\n",
       "      <td>GGTCTCCTTAGCGGGCGGGCAAAATGGGCGCCGGTACTCGGGAGGC...</td>\n",
       "      <td>500</td>\n",
       "      <td>GGTCTCCTTAGCGGGCGGGCAAAATGGGCGCCGGTACTCGGGAGGC...</td>\n",
       "    </tr>\n",
       "    <tr>\n",
       "      <th>8952</th>\n",
       "      <td>chrY</td>\n",
       "      <td>10033450</td>\n",
       "      <td>10033615</td>\n",
       "      <td>TTTGGGGTACGGGATCCCCCGGCCTGCCGCCTCTCTCTGCGTTATG...</td>\n",
       "      <td>165</td>\n",
       "      <td>NNNNNNNNNNNNNNNNNNNNNNNNNNNNNNNNNNNNNNNNNNNNNN...</td>\n",
       "    </tr>\n",
       "    <tr>\n",
       "      <th>8953</th>\n",
       "      <td>chrY</td>\n",
       "      <td>10037740</td>\n",
       "      <td>10037912</td>\n",
       "      <td>CCCTTGCCAAATTGACCTTGTATGACTTTTAGCGGTGGATCACTCG...</td>\n",
       "      <td>172</td>\n",
       "      <td>NNNNNNNNNNNNNNNNNNNNNNNNNNNNNNNNNNNNNNNNNNNNNN...</td>\n",
       "    </tr>\n",
       "    <tr>\n",
       "      <th>8954</th>\n",
       "      <td>chrY</td>\n",
       "      <td>13488805</td>\n",
       "      <td>13488945</td>\n",
       "      <td>GGGAGGACCCGGACCCGCAGCGTGACAGCCTGCCGGTTGCTTGCGC...</td>\n",
       "      <td>140</td>\n",
       "      <td>NNNNNNNNNNNNNNNNNNNNNNNNNNNNNNNNNNNNNNNNNNNNNN...</td>\n",
       "    </tr>\n",
       "  </tbody>\n",
       "</table>\n",
       "</div>"
      ],
      "text/plain": [
       "       chr      start        end  \\\n",
       "8950  chrX  154255314  154255500   \n",
       "8951  chrX  154299329  154299829   \n",
       "8952  chrY   10033450   10033615   \n",
       "8953  chrY   10037740   10037912   \n",
       "8954  chrY   13488805   13488945   \n",
       "\n",
       "                                                    seq  len  \\\n",
       "8950  CAAGCTCACCGAAATGGCCGCGTCCAGTCAAGGTAAgggcgggcgc...  186   \n",
       "8951  GGTCTCCTTAGCGGGCGGGCAAAATGGGCGCCGGTACTCGGGAGGC...  500   \n",
       "8952  TTTGGGGTACGGGATCCCCCGGCCTGCCGCCTCTCTCTGCGTTATG...  165   \n",
       "8953  CCCTTGCCAAATTGACCTTGTATGACTTTTAGCGGTGGATCACTCG...  172   \n",
       "8954  GGGAGGACCCGGACCCGCAGCGTGACAGCCTGCCGGTTGCTTGCGC...  140   \n",
       "\n",
       "                                           seq_centered  \n",
       "8950  NNNNNNNNNNNNNNNNNNNNNNNNNNNNNNNNNNNNNNNNNNNNNN...  \n",
       "8951  GGTCTCCTTAGCGGGCGGGCAAAATGGGCGCCGGTACTCGGGAGGC...  \n",
       "8952  NNNNNNNNNNNNNNNNNNNNNNNNNNNNNNNNNNNNNNNNNNNNNN...  \n",
       "8953  NNNNNNNNNNNNNNNNNNNNNNNNNNNNNNNNNNNNNNNNNNNNNN...  \n",
       "8954  NNNNNNNNNNNNNNNNNNNNNNNNNNNNNNNNNNNNNNNNNNNNNN...  "
      ]
     },
     "execution_count": 139,
     "metadata": {},
     "output_type": "execute_result"
    }
   ],
   "source": [
    "df.tail()"
   ]
  },
  {
   "cell_type": "code",
   "execution_count": 142,
   "metadata": {},
   "outputs": [
    {
     "name": "stdout",
     "output_type": "stream",
     "text": [
      "['chr1' 'chr2' 'chr3' 'chr4' 'chr5' 'chr6' 'chr7' 'chr8' 'chr9' 'chr10'\n",
      " 'chr11' 'chr12' 'chr13' 'chr14' 'chr15' 'chr16' 'chr17' 'chr18' 'chr19'\n",
      " 'chr20' 'chr21' 'chr22' 'chrM' 'chrX' 'chrY']\n"
     ]
    },
    {
     "data": {
      "text/html": [
       "<div>\n",
       "<style scoped>\n",
       "    .dataframe tbody tr th:only-of-type {\n",
       "        vertical-align: middle;\n",
       "    }\n",
       "\n",
       "    .dataframe tbody tr th {\n",
       "        vertical-align: top;\n",
       "    }\n",
       "\n",
       "    .dataframe thead th {\n",
       "        text-align: right;\n",
       "    }\n",
       "</style>\n",
       "<table border=\"1\" class=\"dataframe\">\n",
       "  <thead>\n",
       "    <tr style=\"text-align: right;\">\n",
       "      <th></th>\n",
       "      <th>chr</th>\n",
       "      <th>start</th>\n",
       "      <th>end</th>\n",
       "      <th>seq</th>\n",
       "      <th>len</th>\n",
       "      <th>seq_centered</th>\n",
       "    </tr>\n",
       "  </thead>\n",
       "  <tbody>\n",
       "    <tr>\n",
       "      <th>0</th>\n",
       "      <td>chr1</td>\n",
       "      <td>113133816</td>\n",
       "      <td>113134149</td>\n",
       "      <td>tgctgggattacaggtgtgagccaccacacccggccTAGTATGTTA...</td>\n",
       "      <td>333</td>\n",
       "      <td>NNNNNNNNNNNNNNNNNNNNNNNNNNNNNNNNNNNNNNNNNNNNNN...</td>\n",
       "    </tr>\n",
       "    <tr>\n",
       "      <th>1</th>\n",
       "      <td>chr1</td>\n",
       "      <td>180867994</td>\n",
       "      <td>180868126</td>\n",
       "      <td>ctttaaaatgcctttggtcccaagtctctgacaggagggtgaggtg...</td>\n",
       "      <td>132</td>\n",
       "      <td>NNNNNNNNNNNNNNNNNNNNNNNNNNNNNNNNNNNNNNNNNNNNNN...</td>\n",
       "    </tr>\n",
       "    <tr>\n",
       "      <th>2</th>\n",
       "      <td>chr1</td>\n",
       "      <td>95276940</td>\n",
       "      <td>95277069</td>\n",
       "      <td>gggcaaagaacccgcatcagcctgcctcatcattaaccctcaactg...</td>\n",
       "      <td>129</td>\n",
       "      <td>NNNNNNNNNNNNNNNNNNNNNNNNNNNNNNNNNNNNNNNNNNNNNN...</td>\n",
       "    </tr>\n",
       "    <tr>\n",
       "      <th>3</th>\n",
       "      <td>chr1</td>\n",
       "      <td>40094551</td>\n",
       "      <td>40094712</td>\n",
       "      <td>gcgtgagccaccgcgcccggccCGCTGTTTTTTTCTAACATTTGCT...</td>\n",
       "      <td>161</td>\n",
       "      <td>NNNNNNNNNNNNNNNNNNNNNNNNNNNNNNNNNNNNNNNNNNNNNN...</td>\n",
       "    </tr>\n",
       "    <tr>\n",
       "      <th>4</th>\n",
       "      <td>chr1</td>\n",
       "      <td>152882574</td>\n",
       "      <td>152882859</td>\n",
       "      <td>CAGAAAACCCAGAGCAGCAGCTTAAGCAGGAGAAAACACAAAGGGA...</td>\n",
       "      <td>285</td>\n",
       "      <td>NNNNNNNNNNNNNNNNNNNNNNNNNNNNNNNNNNNNNNNNNNNNNN...</td>\n",
       "    </tr>\n",
       "  </tbody>\n",
       "</table>\n",
       "</div>"
      ],
      "text/plain": [
       "    chr      start        end  \\\n",
       "0  chr1  113133816  113134149   \n",
       "1  chr1  180867994  180868126   \n",
       "2  chr1   95276940   95277069   \n",
       "3  chr1   40094551   40094712   \n",
       "4  chr1  152882574  152882859   \n",
       "\n",
       "                                                 seq  len  \\\n",
       "0  tgctgggattacaggtgtgagccaccacacccggccTAGTATGTTA...  333   \n",
       "1  ctttaaaatgcctttggtcccaagtctctgacaggagggtgaggtg...  132   \n",
       "2  gggcaaagaacccgcatcagcctgcctcatcattaaccctcaactg...  129   \n",
       "3  gcgtgagccaccgcgcccggccCGCTGTTTTTTTCTAACATTTGCT...  161   \n",
       "4  CAGAAAACCCAGAGCAGCAGCTTAAGCAGGAGAAAACACAAAGGGA...  285   \n",
       "\n",
       "                                        seq_centered  \n",
       "0  NNNNNNNNNNNNNNNNNNNNNNNNNNNNNNNNNNNNNNNNNNNNNN...  \n",
       "1  NNNNNNNNNNNNNNNNNNNNNNNNNNNNNNNNNNNNNNNNNNNNNN...  \n",
       "2  NNNNNNNNNNNNNNNNNNNNNNNNNNNNNNNNNNNNNNNNNNNNNN...  \n",
       "3  NNNNNNNNNNNNNNNNNNNNNNNNNNNNNNNNNNNNNNNNNNNNNN...  \n",
       "4  NNNNNNNNNNNNNNNNNNNNNNNNNNNNNNNNNNNNNNNNNNNNNN...  "
      ]
     },
     "execution_count": 142,
     "metadata": {},
     "output_type": "execute_result"
    }
   ],
   "source": [
    "# Load shuffled data, drop sequences longer than 500, center sequences\n",
    "chromosomes = list(range(1,23)) + ['M','X','Y']\n",
    "shuf = merge_chrom_data('shuffled_chr', chromosomes)\n",
    "shuf = shuf[shuf.len <= 500]\n",
    "shuf = center_seq(shuf)\n",
    "shuf.head()"
   ]
  },
  {
   "cell_type": "code",
   "execution_count": 443,
   "metadata": {},
   "outputs": [],
   "source": [
    "# Split to test & train\n",
    "test_chromosomes_list = [3,6,9,12,15,18,21]\n",
    "test_chromosomes = list(map(lambda n:'chr'+str(n),test_chromosomes_list))\n",
    "specific_chromosomes = ['chrX','chrM','chrY']\n",
    "\n",
    "shuf['label'] = 0\n",
    "test_shuf = shuf[shuf.chr.isin(test_chromosomes)]\n",
    "train_shuf = shuf[~shuf.chr.isin(test_chromosomes + specific_chromosomes)]\n",
    "\n",
    "df['label'] = 1\n",
    "test_data = df[df.chr.isin(test_chromosomes)]\n",
    "train_data = df[~df.chr.isin(test_chromosomes + specific_chromosomes)]\n",
    "\n",
    "train = pd.concat([train_data,train_shuf]).reset_index(drop=True)\n",
    "test = pd.concat([test_data,test_shuf]).reset_index(drop=True)"
   ]
  },
  {
   "cell_type": "code",
   "execution_count": 444,
   "metadata": {},
   "outputs": [],
   "source": [
    "def encode_seq(sequences):\n",
    "    encoder = {'A':[0,0,0,1],'T':[0,0,1,0],'G':[0,1,0,0],'C':[1,0,0,0],'N':[0,0,0,0]}\n",
    "    \n",
    "    encoded_seqs = []\n",
    "    for seq in sequences:\n",
    "        encoded_seq = list(map(lambda nucl: encoder[nucl], seq.upper()))\n",
    "        encoded_seqs.append(encoded_seq)\n",
    "    return encoded_seqs"
   ]
  },
  {
   "cell_type": "code",
   "execution_count": 445,
   "metadata": {},
   "outputs": [],
   "source": [
    "# Shuffle train & test\n",
    "#train = train.sample(frac=1,random_state=42).reset_index(drop=True)\n",
    "#test = test.sample(frac=1,random_state=42).reset_index(drop=True)\n",
    "\n",
    "# Get X & y\n",
    "train_X = encode_seq(train.seq_centered)#.to_list()\n",
    "test_X = encode_seq(test.seq_centered)#.to_list()\n",
    "train_y = train.label#.to_list()\n",
    "test_y = test.label#.to_list()"
   ]
  },
  {
   "cell_type": "code",
   "execution_count": 446,
   "metadata": {},
   "outputs": [
    {
     "data": {
      "text/plain": [
       "(4222,)"
      ]
     },
     "execution_count": 446,
     "metadata": {},
     "output_type": "execute_result"
    }
   ],
   "source": [
    "np.array(test_y).shape"
   ]
  },
  {
   "cell_type": "code",
   "execution_count": 447,
   "metadata": {},
   "outputs": [
    {
     "ename": "AttributeError",
     "evalue": "'list' object has no attribute 'shape'",
     "output_type": "error",
     "traceback": [
      "\u001b[0;31m---------------------------------------------------------------------------\u001b[0m",
      "\u001b[0;31mAttributeError\u001b[0m                            Traceback (most recent call last)",
      "\u001b[0;32m<ipython-input-447-2b825e7ae4f3>\u001b[0m in \u001b[0;36m<module>\u001b[0;34m()\u001b[0m\n\u001b[0;32m----> 1\u001b[0;31m \u001b[0mtrain_X\u001b[0m\u001b[0;34m[\u001b[0m\u001b[0;36m0\u001b[0m\u001b[0;34m]\u001b[0m\u001b[0;34m.\u001b[0m\u001b[0mshape\u001b[0m\u001b[0;34m\u001b[0m\u001b[0;34m\u001b[0m\u001b[0m\n\u001b[0m",
      "\u001b[0;31mAttributeError\u001b[0m: 'list' object has no attribute 'shape'"
     ]
    }
   ],
   "source": [
    "train_X[0].shape"
   ]
  },
  {
   "cell_type": "code",
   "execution_count": null,
   "metadata": {},
   "outputs": [],
   "source": [
    "def get_device():\n",
    "    if torch.cuda.is_available():\n",
    "        device = 'cuda:0'\n",
    "    else:\n",
    "        device = 'cpu'\n",
    "    return device\n",
    "device = get_device()\n",
    "\n",
    "class SimpleSeqsDataset(Dataset):\n",
    "    def __init__(self, seqs, labels=None, transforms=None):\n",
    "        self.X = seqs\n",
    "        self.y = labels\n",
    "        self.transforms = transforms\n",
    "        \n",
    "    def __len__(self):\n",
    "        return (len(self.X))\n",
    "    \n",
    "    def __getitem__(self, i):\n",
    "        data = self.X[i]\n",
    "        data = np.asarray(data)\n",
    "        \n",
    "        data = torch.from_numpy(data).type(torch.FloatTensor).permute(1,0)\n",
    "            \n",
    "        if self.y is not None:\n",
    "            return (data, self.y[i])\n",
    "        else:\n",
    "            return data\n",
    "        \n",
    "BATCH_SIZE = 32\n",
    "#transform = transforms.Compose([transforms.ToTensor()])\n",
    "     \n",
    "     \n",
    "train_dataset = SimpleSeqsDataset(train_X, train_y)\n",
    "test_dataset = SimpleSeqsDataset(test_X, test_y)\n",
    "\n",
    "train_loader = DataLoader(train_dataset,batch_size=BATCH_SIZE,shuffle=True)\n",
    "test_loader = DataLoader(test_dataset,batch_size=1,shuffle=True)\n",
    "\n",
    "len(train_X)//BATCH_SIZE"
   ]
  },
  {
   "cell_type": "code",
   "execution_count": 448,
   "metadata": {},
   "outputs": [
    {
     "data": {
      "text/plain": [
       "'torch.FloatTensor'"
      ]
     },
     "execution_count": 448,
     "metadata": {},
     "output_type": "execute_result"
    }
   ],
   "source": [
    "train_dataset.__getitem__(3)[0].type()"
   ]
  },
  {
   "cell_type": "code",
   "execution_count": 449,
   "metadata": {},
   "outputs": [
    {
     "name": "stdout",
     "output_type": "stream",
     "text": [
      "Net(\n",
      "  (conv1): Conv1d(4, 16, kernel_size=(5,), stride=(1,))\n",
      "  (pool): MaxPool1d(kernel_size=5, stride=5, padding=0, dilation=1, ceil_mode=False)\n",
      "  (fc1): Linear(in_features=1584, out_features=128, bias=True)\n",
      "  (fc2): Linear(in_features=128, out_features=1, bias=True)\n",
      ")\n"
     ]
    }
   ],
   "source": [
    "class Net(nn.Module):\n",
    "    def __init__(self):\n",
    "        super(Net, self).__init__()\n",
    "        self.conv1 = nn.Conv1d(in_channels=4,out_channels=16, kernel_size=5)\n",
    "        self.pool = nn.MaxPool1d(5)\n",
    "        self.fc1 = nn.Linear(16*99, 128)\n",
    "        self.fc2 = nn.Linear(128, 1)\n",
    "\n",
    "    def forward(self, x):\n",
    "        x = F.relu(self.conv1(x))\n",
    "        #print(x.size())\n",
    "        x = self.pool(x)\n",
    "        #print(x.size())\n",
    "        x = x.view(-1, 16*99)\n",
    "        x = F.relu(self.fc1(x))\n",
    "        #print(x.size())\n",
    "        x = F.sigmoid(self.fc2(x))\n",
    "        return x\n",
    "\n",
    "\n",
    "net = Net()\n",
    "criterion = nn.BCELoss()\n",
    "optimizer = optim.SGD(net.parameters(), lr=0.001, momentum=0.9)\n",
    "\n",
    "print(net)"
   ]
  },
  {
   "cell_type": "code",
   "execution_count": 450,
   "metadata": {},
   "outputs": [
    {
     "name": "stdout",
     "output_type": "stream",
     "text": [
      "[1,   100] loss: 0.686 acc: 59.650\n",
      "[1,   200] loss: 0.643 acc: 76.760\n",
      "[1,   300] loss: 0.545 acc: 91.300\n",
      "[1,   400] loss: 0.390 acc: 91.830\n",
      "[2,   100] loss: 0.270 acc: 92.360\n",
      "[2,   200] loss: 0.223 acc: 92.350\n",
      "[2,   300] loss: 0.198 acc: 93.140\n",
      "[2,   400] loss: 0.209 acc: 92.330\n",
      "[3,   100] loss: 0.184 acc: 93.330\n",
      "[3,   200] loss: 0.184 acc: 93.300\n",
      "[3,   300] loss: 0.193 acc: 92.790\n",
      "[3,   400] loss: 0.182 acc: 92.960\n",
      "Finished Training\n"
     ]
    }
   ],
   "source": [
    "def binary_acc(y_pred, y_test):\n",
    "    y_pred_tag = torch.round(y_pred)\n",
    "\n",
    "    correct_results_sum = (y_pred_tag == y_test).sum().float()\n",
    "    acc = correct_results_sum/y_test.shape[0]\n",
    "    acc = torch.round(acc * 100)\n",
    "    \n",
    "    return acc\n",
    "\n",
    "# Train \n",
    "for epoch in range(3):  \n",
    "\n",
    "    running_loss = 0.0\n",
    "    running_acc = 0.0\n",
    "    for i, data in enumerate(train_loader, 0):\n",
    "        # get the inputs; data is a list of [inputs, labels]\n",
    "        inputs, labels = data[0].to(device), data[1].type(torch.FloatTensor).unsqueeze(1).to(device) #non_blocking=True)\n",
    "        \n",
    "\n",
    "        # zero the parameter gradients\n",
    "        optimizer.zero_grad()\n",
    "\n",
    "        # forward + backward + optimize\n",
    "        #print(f'Input:{inputs.size()}\\n')\n",
    "        outputs = net(inputs)\n",
    "        #print(outputs)\n",
    "        #print(f'\\nOutput:{outputs.size()}')\n",
    "        loss = criterion(outputs, labels)\n",
    "        acc = binary_acc(outputs, labels)\n",
    "        loss.backward()\n",
    "        optimizer.step()\n",
    "\n",
    "        # print statistics\n",
    "        running_loss += loss.item()\n",
    "        running_acc += acc.item()\n",
    "        if i % 100 == 99:    \n",
    "            print('[%d, %5d] loss: %.3f acc: %.3f' %\n",
    "                  (epoch + 1, i + 1, running_loss / 100, running_acc / 100))\n",
    "            running_loss = 0.0\n",
    "            running_acc = 0.0\n",
    "\n",
    "print('Finished Training')"
   ]
  },
  {
   "cell_type": "code",
   "execution_count": 458,
   "metadata": {},
   "outputs": [],
   "source": [
    "# Test\n",
    "def test(net, test_loader):\n",
    "    y_pred_list = []\n",
    "    y_labels_list=[]\n",
    "    with torch.no_grad():\n",
    "        for data in test_loader:\n",
    "            inputs, labels = data[0].to(device), data[1].to(device) #non_blocking=True)\n",
    "            outputs = net(inputs)\n",
    "            #print(outputs)\n",
    "            outputs = torch.round(outputs)\n",
    "            y_pred_list.append(outputs.cpu().numpy())\n",
    "            y_labels_list.append(labels.cpu().numpy())\n",
    "    y_pred_list = [a.squeeze().tolist() for a in y_pred_list]\n",
    "    y_labels_list = [a.squeeze().tolist() for a in y_labels_list]\n",
    "    return(y_labels_list, y_pred_list)\n",
    "        \n",
    "y_labels_list, y_pred_list = test(net, test_loader)"
   ]
  },
  {
   "cell_type": "code",
   "execution_count": 561,
   "metadata": {},
   "outputs": [
    {
     "name": "stdout",
     "output_type": "stream",
     "text": [
      "              precision    recall  f1-score   support\n",
      "\n",
      "           0       0.93      0.96      0.95      2111\n",
      "           1       0.96      0.93      0.95      2111\n",
      "\n",
      "    accuracy                           0.95      4222\n",
      "   macro avg       0.95      0.95      0.95      4222\n",
      "weighted avg       0.95      0.95      0.95      4222\n",
      "\n"
     ]
    },
    {
     "data": {
      "image/png": "[encoded data removed]",
      "text/plain": [
       "<Figure size 432x288 with 2 Axes>"
      ]
     },
     "metadata": {},
     "output_type": "display_data"
    },
    {
     "data": {
      "text/plain": [
       "<Figure size 720x720 with 0 Axes>"
      ]
     },
     "metadata": {},
     "output_type": "display_data"
    }
   ],
   "source": [
    "def plot_conf_matrix(y_true, y_pred):\n",
    "    print(classification_report(y_labels_list, y_pred_list))\n",
    "    cf = pd.DataFrame(confusion_matrix(y_true, y_pred))\n",
    "    ax= plt.subplot()\n",
    "    plt.figure(figsize=(10,10))\n",
    "    sns.set(font_scale=1.4)\n",
    "\n",
    "    sns.heatmap(cf, annot=True, ax = ax,cmap='Blues')\n",
    "    ax.set_ylabel('Actual')\n",
    "    ax.set_xlabel('Predicted')\n",
    "    ax.set_ylim([0,2])\n",
    "plot_conf_matrix(y_labels_list, y_pred_list)"
   ]
  },
  {
   "cell_type": "code",
   "execution_count": 464,
   "metadata": {},
   "outputs": [
    {
     "data": {
      "text/plain": [
       "0.9488394126006632"
      ]
     },
     "execution_count": 464,
     "metadata": {},
     "output_type": "execute_result"
    }
   ],
   "source": [
    "roc_auc_score(y_labels_list, y_pred_list)"
   ]
  }
 ],
 "metadata": {
  "kernelspec": {
   "display_name": "Python 3",
   "language": "python",
   "name": "python3"
  },
  "language_info": {
   "codemirror_mode": {
    "name": "ipython",
    "version": 3
   },
   "file_extension": ".py",
   "mimetype": "text/x-python",
   "name": "python",
   "nbconvert_exporter": "python",
   "pygments_lexer": "ipython3",
   "version": "3.6.9"
  }
 },
 "nbformat": 4,
 "nbformat_minor": 2
}
