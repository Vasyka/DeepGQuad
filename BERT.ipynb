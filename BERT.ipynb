{
 "cells": [
  {
   "cell_type": "code",
   "execution_count": 2,
   "metadata": {
    "colab": {
     "base_uri": "https://localhost:8080/",
     "height": 127
    },
    "colab_type": "code",
    "id": "2w5PRoAtO0pO",
    "outputId": "e9a07f4a-3968-48e3-e32d-d5e95d9880a4"
   },
   "outputs": [],
   "source": [
    "from google.colab import drive\n",
    "drive.mount('/content/drive')"
   ]
  },
  {
   "cell_type": "code",
   "execution_count": 4,
   "metadata": {
    "colab": {},
    "colab_type": "code",
    "id": "2gzDZPp35kbY"
   },
   "outputs": [],
   "source": [
    "!pip install -r /content/drive/My\\ Drive/mya/scripts/requirements.txt"
   ]
  },
  {
   "cell_type": "code",
   "execution_count": 28,
   "metadata": {
    "colab": {
     "base_uri": "https://localhost:8080/",
     "height": 161
    },
    "colab_type": "code",
    "id": "aVR_hNQpPqov",
    "outputId": "38569d2c-8fa0-474b-e46c-9fc9a2ec825f"
   },
   "outputs": [
    {
     "name": "stdout",
     "output_type": "stream",
     "text": [
      "1.4.0\n"
     ]
    },
    {
     "data": {
      "text/plain": [
       "['DNA-transformer',\n",
       " 'transformer-xl.ipynb',\n",
       " 'Hybr',\n",
       " 'Old BERT.ipynb',\n",
       " 'scripts',\n",
       " 'BERT.ipynb',\n",
       " 'Data']"
      ]
     },
     "execution_count": 28,
     "metadata": {
      "tags": []
     },
     "output_type": "execute_result"
    }
   ],
   "source": [
    "import os\n",
    "import numpy as np\n",
    "import pandas as pd\n",
    "import matplotlib.pyplot as plt\n",
    "from sklearn.metrics import *\n",
    "import seaborn as sns\n",
    "import wandb \n",
    "import json\n",
    "\n",
    "sns.set()\n",
    "%matplotlib inline\n",
    "\n",
    "import torch\n",
    "import torch.nn as nn\n",
    "import torch.nn.functional as F\n",
    "from torch.utils.tensorboard import SummaryWriter\n",
    "\n",
    "import torch.optim as optim\n",
    "from torch.utils.data import DataLoader\n",
    "from torch.utils.data import Dataset\n",
    "\n",
    "from Bio import SeqIO\n",
    "from Bio.Seq import Seq\n",
    "from Bio.SeqRecord import SeqRecord\n",
    "\n",
    "print(torch.__version__)\n",
    "\n",
    "path = '/content/drive/My Drive/DeepGQuad/'\n",
    "os.chdir(path)\n",
    "os.listdir()"
   ]
  },
  {
   "cell_type": "code",
   "execution_count": 7,
   "metadata": {
    "colab": {
     "base_uri": "https://localhost:8080/",
     "height": 204
    },
    "colab_type": "code",
    "id": "RHjbOkbwLfEQ",
    "outputId": "b20a5ae6-4733-433b-eb72-9cb589a76b20"
   },
   "outputs": [
    {
     "data": {
      "text/html": [
       "<div>\n",
       "<style scoped>\n",
       "    .dataframe tbody tr th:only-of-type {\n",
       "        vertical-align: middle;\n",
       "    }\n",
       "\n",
       "    .dataframe tbody tr th {\n",
       "        vertical-align: top;\n",
       "    }\n",
       "\n",
       "    .dataframe thead th {\n",
       "        text-align: right;\n",
       "    }\n",
       "</style>\n",
       "<table border=\"1\" class=\"dataframe\">\n",
       "  <thead>\n",
       "    <tr style=\"text-align: right;\">\n",
       "      <th></th>\n",
       "      <th>chr</th>\n",
       "      <th>true_start</th>\n",
       "      <th>true_end</th>\n",
       "      <th>start</th>\n",
       "      <th>end</th>\n",
       "      <th>seq</th>\n",
       "      <th>len</th>\n",
       "    </tr>\n",
       "  </thead>\n",
       "  <tbody>\n",
       "    <tr>\n",
       "      <th>0</th>\n",
       "      <td>chr1</td>\n",
       "      <td>713977</td>\n",
       "      <td>714310</td>\n",
       "      <td>713894</td>\n",
       "      <td>714394</td>\n",
       "      <td>TTCAGCCGGCAACACACAGAACCTGGCGGGGAGGTCACTCTTACCA...</td>\n",
       "      <td>500</td>\n",
       "    </tr>\n",
       "    <tr>\n",
       "      <th>1</th>\n",
       "      <td>chr1</td>\n",
       "      <td>762850</td>\n",
       "      <td>762982</td>\n",
       "      <td>762666</td>\n",
       "      <td>763166</td>\n",
       "      <td>ACCGGACACAGACGCAGATCTGGCAGCTGAGCGACAGGCTTCGGAG...</td>\n",
       "      <td>500</td>\n",
       "    </tr>\n",
       "    <tr>\n",
       "      <th>2</th>\n",
       "      <td>chr1</td>\n",
       "      <td>840076</td>\n",
       "      <td>840205</td>\n",
       "      <td>839891</td>\n",
       "      <td>840391</td>\n",
       "      <td>ACGTGGCCTCCTCCGAACGCGGCCGCCTCCTCCTCCGAACGCGGCC...</td>\n",
       "      <td>500</td>\n",
       "    </tr>\n",
       "    <tr>\n",
       "      <th>3</th>\n",
       "      <td>chr1</td>\n",
       "      <td>894635</td>\n",
       "      <td>894796</td>\n",
       "      <td>894466</td>\n",
       "      <td>894966</td>\n",
       "      <td>GGTCACGCAGGAGTCACAGCTGCCCGCACGCCCAGCTCGCCCCAGC...</td>\n",
       "      <td>500</td>\n",
       "    </tr>\n",
       "    <tr>\n",
       "      <th>4</th>\n",
       "      <td>chr1</td>\n",
       "      <td>935414</td>\n",
       "      <td>935699</td>\n",
       "      <td>935307</td>\n",
       "      <td>935807</td>\n",
       "      <td>CTGCCATCGGCGAGGCGCTCGGTTTCCCCGGCGTGTCTGCGGCCAT...</td>\n",
       "      <td>500</td>\n",
       "    </tr>\n",
       "  </tbody>\n",
       "</table>\n",
       "</div>"
      ],
      "text/plain": [
       "    chr  true_start  ...                                                seq  len\n",
       "0  chr1      713977  ...  TTCAGCCGGCAACACACAGAACCTGGCGGGGAGGTCACTCTTACCA...  500\n",
       "1  chr1      762850  ...  ACCGGACACAGACGCAGATCTGGCAGCTGAGCGACAGGCTTCGGAG...  500\n",
       "2  chr1      840076  ...  ACGTGGCCTCCTCCGAACGCGGCCGCCTCCTCCTCCGAACGCGGCC...  500\n",
       "3  chr1      894635  ...  GGTCACGCAGGAGTCACAGCTGCCCGCACGCCCAGCTCGCCCCAGC...  500\n",
       "4  chr1      935414  ...  CTGCCATCGGCGAGGCGCTCGGTTTCCCCGGCGTGTCTGCGGCCAT...  500\n",
       "\n",
       "[5 rows x 7 columns]"
      ]
     },
     "execution_count": 7,
     "metadata": {
      "tags": []
     },
     "output_type": "execute_result"
    }
   ],
   "source": [
    "df = pd.read_csv('./Data/G4_chip_all_coords.csv', sep='\\t')\n",
    "df.head()"
   ]
  },
  {
   "cell_type": "code",
   "execution_count": 8,
   "metadata": {
    "colab": {
     "base_uri": "https://localhost:8080/",
     "height": 80
    },
    "colab_type": "code",
    "id": "2ve8TVCBLrb6",
    "outputId": "2b99d9d6-b643-4574-9fbc-78d3267ddf8d"
   },
   "outputs": [
    {
     "data": {
      "text/html": [
       "<div>\n",
       "<style scoped>\n",
       "    .dataframe tbody tr th:only-of-type {\n",
       "        vertical-align: middle;\n",
       "    }\n",
       "\n",
       "    .dataframe tbody tr th {\n",
       "        vertical-align: top;\n",
       "    }\n",
       "\n",
       "    .dataframe thead th {\n",
       "        text-align: right;\n",
       "    }\n",
       "</style>\n",
       "<table border=\"1\" class=\"dataframe\">\n",
       "  <thead>\n",
       "    <tr style=\"text-align: right;\">\n",
       "      <th></th>\n",
       "      <th>chr</th>\n",
       "      <th>true_start</th>\n",
       "      <th>true_end</th>\n",
       "      <th>start</th>\n",
       "      <th>end</th>\n",
       "      <th>seq</th>\n",
       "      <th>len</th>\n",
       "      <th>label</th>\n",
       "    </tr>\n",
       "  </thead>\n",
       "  <tbody>\n",
       "    <tr>\n",
       "      <th>0</th>\n",
       "      <td>chr1</td>\n",
       "      <td>713977</td>\n",
       "      <td>714310</td>\n",
       "      <td>713894</td>\n",
       "      <td>714394</td>\n",
       "      <td>TTCAGCCGGCAACACACAGAACCTGGCGGGGAGGTCACTCTTACCA...</td>\n",
       "      <td>500</td>\n",
       "      <td>[0.0, 0.0, 0.0, 0.0, 0.0, 0.0, 0.0, 0.0, 0.0, ...</td>\n",
       "    </tr>\n",
       "  </tbody>\n",
       "</table>\n",
       "</div>"
      ],
      "text/plain": [
       "    chr  true_start  ...  len                                              label\n",
       "0  chr1      713977  ...  500  [0.0, 0.0, 0.0, 0.0, 0.0, 0.0, 0.0, 0.0, 0.0, ...\n",
       "\n",
       "[1 rows x 8 columns]"
      ]
     },
     "execution_count": 8,
     "metadata": {
      "tags": []
     },
     "output_type": "execute_result"
    }
   ],
   "source": [
    "# Generate labels\n",
    "max_seq_len = 500\n",
    "labels_col = []\n",
    "for i, row in df.iterrows():\n",
    "    labels = np.zeros(max_seq_len)\n",
    "    labels[row.true_start-row.start:row.true_end - row.start] = 1\n",
    "    labels_col.append(labels)\n",
    "df['label'] = labels_col\n",
    "df.head(1)"
   ]
  },
  {
   "cell_type": "code",
   "execution_count": 10,
   "metadata": {
    "colab": {
     "base_uri": "https://localhost:8080/",
     "height": 258
    },
    "colab_type": "code",
    "id": "6THAzTtaMf7L",
    "outputId": "72a03333-1e60-4d57-fed2-26c966d4d892"
   },
   "outputs": [
    {
     "name": "stdout",
     "output_type": "stream",
     "text": [
      "['chr1' 'chr2' 'chr3' 'chr4' 'chr5' 'chr6' 'chr7' 'chr8' 'chr9' 'chr10'\n",
      " 'chr11' 'chr12' 'chr13' 'chr14' 'chr15' 'chr16' 'chr17' 'chr18' 'chr19'\n",
      " 'chr20' 'chr21' 'chr22' 'chrM' 'chrX' 'chrY']\n"
     ]
    },
    {
     "data": {
      "text/html": [
       "<div>\n",
       "<style scoped>\n",
       "    .dataframe tbody tr th:only-of-type {\n",
       "        vertical-align: middle;\n",
       "    }\n",
       "\n",
       "    .dataframe tbody tr th {\n",
       "        vertical-align: top;\n",
       "    }\n",
       "\n",
       "    .dataframe thead th {\n",
       "        text-align: right;\n",
       "    }\n",
       "</style>\n",
       "<table border=\"1\" class=\"dataframe\">\n",
       "  <thead>\n",
       "    <tr style=\"text-align: right;\">\n",
       "      <th></th>\n",
       "      <th>chr</th>\n",
       "      <th>start</th>\n",
       "      <th>end</th>\n",
       "      <th>seq</th>\n",
       "      <th>len</th>\n",
       "      <th>label</th>\n",
       "    </tr>\n",
       "  </thead>\n",
       "  <tbody>\n",
       "    <tr>\n",
       "      <th>0</th>\n",
       "      <td>chr1</td>\n",
       "      <td>113133816</td>\n",
       "      <td>113134316</td>\n",
       "      <td>tgctgggattacaggtgtgagccaccacacccggccTAGTATGTTA...</td>\n",
       "      <td>500</td>\n",
       "      <td>[0.0, 0.0, 0.0, 0.0, 0.0, 0.0, 0.0, 0.0, 0.0, ...</td>\n",
       "    </tr>\n",
       "    <tr>\n",
       "      <th>1</th>\n",
       "      <td>chr1</td>\n",
       "      <td>180867994</td>\n",
       "      <td>180868494</td>\n",
       "      <td>ctttaaaatgcctttggtcccaagtctctgacaggagggtgaggtg...</td>\n",
       "      <td>500</td>\n",
       "      <td>[0.0, 0.0, 0.0, 0.0, 0.0, 0.0, 0.0, 0.0, 0.0, ...</td>\n",
       "    </tr>\n",
       "    <tr>\n",
       "      <th>2</th>\n",
       "      <td>chr1</td>\n",
       "      <td>95276940</td>\n",
       "      <td>95277440</td>\n",
       "      <td>gggcaaagaacccgcatcagcctgcctcatcattaaccctcaactg...</td>\n",
       "      <td>500</td>\n",
       "      <td>[0.0, 0.0, 0.0, 0.0, 0.0, 0.0, 0.0, 0.0, 0.0, ...</td>\n",
       "    </tr>\n",
       "    <tr>\n",
       "      <th>3</th>\n",
       "      <td>chr1</td>\n",
       "      <td>40094551</td>\n",
       "      <td>40095051</td>\n",
       "      <td>gcgtgagccaccgcgcccggccCGCTGTTTTTTTCTAACATTTGCT...</td>\n",
       "      <td>500</td>\n",
       "      <td>[0.0, 0.0, 0.0, 0.0, 0.0, 0.0, 0.0, 0.0, 0.0, ...</td>\n",
       "    </tr>\n",
       "    <tr>\n",
       "      <th>4</th>\n",
       "      <td>chr1</td>\n",
       "      <td>152882574</td>\n",
       "      <td>152883074</td>\n",
       "      <td>CAGAAAACCCAGAGCAGCAGCTTAAGCAGGAGAAAACACAAAGGGA...</td>\n",
       "      <td>500</td>\n",
       "      <td>[0.0, 0.0, 0.0, 0.0, 0.0, 0.0, 0.0, 0.0, 0.0, ...</td>\n",
       "    </tr>\n",
       "  </tbody>\n",
       "</table>\n",
       "</div>"
      ],
      "text/plain": [
       "    chr      start  ...  len                                              label\n",
       "0  chr1  113133816  ...  500  [0.0, 0.0, 0.0, 0.0, 0.0, 0.0, 0.0, 0.0, 0.0, ...\n",
       "1  chr1  180867994  ...  500  [0.0, 0.0, 0.0, 0.0, 0.0, 0.0, 0.0, 0.0, 0.0, ...\n",
       "2  chr1   95276940  ...  500  [0.0, 0.0, 0.0, 0.0, 0.0, 0.0, 0.0, 0.0, 0.0, ...\n",
       "3  chr1   40094551  ...  500  [0.0, 0.0, 0.0, 0.0, 0.0, 0.0, 0.0, 0.0, 0.0, ...\n",
       "4  chr1  152882574  ...  500  [0.0, 0.0, 0.0, 0.0, 0.0, 0.0, 0.0, 0.0, 0.0, ...\n",
       "\n",
       "[5 rows x 6 columns]"
      ]
     },
     "execution_count": 10,
     "metadata": {
      "tags": []
     },
     "output_type": "execute_result"
    }
   ],
   "source": [
    "# Load shuffled data, drop sequences longer than 500, add labels\n",
    "chromosomes = list(range(1,23)) + ['M','X','Y']\n",
    "shuf = utils.merge_chrom_data('./Data/shuffled_chr', chromosomes)\n",
    "shuf['label'] = [np.zeros(max_seq_len)] * shuf.shape[0]\n",
    "shuf.head()"
   ]
  },
  {
   "cell_type": "code",
   "execution_count": 0,
   "metadata": {
    "colab": {},
    "colab_type": "code",
    "id": "vn3LVrFDLt0g"
   },
   "outputs": [],
   "source": [
    "# Split to test & train\n",
    "test_chromosomes_list = [3,6,9,12,15,18,21]\n",
    "test_chromosomes = list(map(lambda n:'chr'+str(n),test_chromosomes_list))\n",
    "specific_chromosomes = ['chrX','chrM','chrY']\n",
    "\n",
    "test_data = df[df.chr.isin(test_chromosomes)].reset_index(drop=True)\n",
    "train_data = df[~df.chr.isin(test_chromosomes + specific_chromosomes)].reset_index(drop=True)"
   ]
  },
  {
   "cell_type": "code",
   "execution_count": 0,
   "metadata": {
    "colab": {},
    "colab_type": "code",
    "id": "pYPKco1FPoft"
   },
   "outputs": [],
   "source": [
    "#Shuffle\n",
    "train_full = train_data.sample(frac=1).reset_index(drop=True)\n",
    "test_full = test_data.sample(frac=1).reset_index(drop=True)"
   ]
  },
  {
   "cell_type": "code",
   "execution_count": 16,
   "metadata": {
    "colab": {
     "base_uri": "https://localhost:8080/",
     "height": 53
    },
    "colab_type": "code",
    "id": "ufOX8gDbOoqS",
    "outputId": "9aaa789b-dcc5-48a5-935a-b1fec7c07c09"
   },
   "outputs": [
    {
     "name": "stdout",
     "output_type": "stream",
     "text": [
      "Validation: 1477\n",
      "Test: 634\n"
     ]
    }
   ],
   "source": [
    "# Get validation set\n",
    "val_part = int(0.7*test_full.shape[0])\n",
    "print('Validation:', val_part)\n",
    "val_full = test_full[:val_part].sample(frac=1).reset_index(drop=True)\n",
    "print('Test:', test_full.shape[0]-val_part)\n",
    "test_full = test_full[val_part:].sample(frac=1).reset_index(drop=True)"
   ]
  },
  {
   "cell_type": "code",
   "execution_count": 0,
   "metadata": {
    "colab": {},
    "colab_type": "code",
    "id": "bMaH1RTsLbA9"
   },
   "outputs": [],
   "source": [
    "#test_full = test_full.sample(n=30).reset_index(drop=True)"
   ]
  },
  {
   "cell_type": "code",
   "execution_count": 0,
   "metadata": {
    "colab": {},
    "colab_type": "code",
    "id": "MNqe0bijQHws"
   },
   "outputs": [],
   "source": [
    "def save_labeled_sequence_gquad(data, file_name):\n",
    "  part_len = 500\n",
    "  seq_labeled = []\n",
    "  for i, row in data.iterrows():\n",
    "    part = {\"primary\": row.seq.upper(), \"gquad\": row.label.tolist()}\n",
    "    seq_labeled.append(part)\n",
    "    prev_i = i\n",
    "\n",
    "  print(\"parts_num\", len(seq_labeled))\n",
    "  with open(f\"/content/drive/My Drive/DeepGQuad/Data/{file_name}.json\",\"w\") as fout:\n",
    "      json.dump(seq_labeled,fout)"
   ]
  },
  {
   "cell_type": "code",
   "execution_count": 23,
   "metadata": {
    "colab": {
     "base_uri": "https://localhost:8080/",
     "height": 35
    },
    "colab_type": "code",
    "id": "itN1sqAqRZuO",
    "outputId": "31b2e20f-2016-411b-8bc8-c9f5a33abc41"
   },
   "outputs": [
    {
     "name": "stdout",
     "output_type": "stream",
     "text": [
      "parts_num 634\n"
     ]
    }
   ],
   "source": [
    "# Save sequences labeled with G-quadruplexes\n",
    "save_labeled_sequence_gquad(test_full, 'readydata_test')\n",
    "save_labeled_sequence_gquad(train_full, 'readydata_train')\n",
    "save_labeled_sequence_gquad(val_full, 'readydata_valid')"
   ]
  },
  {
   "cell_type": "code",
   "execution_count": 11,
   "metadata": {
    "colab": {},
    "colab_type": "code",
    "id": "KUesGhBYVLnp"
   },
   "outputs": [],
   "source": [
    "sequences = list(SeqIO.parse('./Data/chr1.fa', \"fasta\"))"
   ]
  },
  {
   "cell_type": "code",
   "execution_count": 12,
   "metadata": {
    "colab": {
     "base_uri": "https://localhost:8080/",
     "height": 204
    },
    "colab_type": "code",
    "id": "AZM1ALW_ktQA",
    "outputId": "7f5ec135-6d8e-475c-ef6d-b00f2e65e76a"
   },
   "outputs": [
    {
     "data": {
      "text/html": [
       "<div>\n",
       "<style scoped>\n",
       "    .dataframe tbody tr th:only-of-type {\n",
       "        vertical-align: middle;\n",
       "    }\n",
       "\n",
       "    .dataframe tbody tr th {\n",
       "        vertical-align: top;\n",
       "    }\n",
       "\n",
       "    .dataframe thead th {\n",
       "        text-align: right;\n",
       "    }\n",
       "</style>\n",
       "<table border=\"1\" class=\"dataframe\">\n",
       "  <thead>\n",
       "    <tr style=\"text-align: right;\">\n",
       "      <th></th>\n",
       "      <th>chr</th>\n",
       "      <th>start</th>\n",
       "      <th>end</th>\n",
       "      <th>seq</th>\n",
       "    </tr>\n",
       "  </thead>\n",
       "  <tbody>\n",
       "    <tr>\n",
       "      <th>0</th>\n",
       "      <td>chr1</td>\n",
       "      <td>713977</td>\n",
       "      <td>714310</td>\n",
       "      <td>ACCATGGCGCCCCAGTGATGTAGCCGAACACCCGCGCCTCTAACGT...</td>\n",
       "    </tr>\n",
       "    <tr>\n",
       "      <th>1</th>\n",
       "      <td>chr1</td>\n",
       "      <td>762850</td>\n",
       "      <td>762982</td>\n",
       "      <td>GGAGGGCACTCACCCGAGCGGACCTTGGCTCCGGATAATCCGTTTC...</td>\n",
       "    </tr>\n",
       "    <tr>\n",
       "      <th>2</th>\n",
       "      <td>chr1</td>\n",
       "      <td>840076</td>\n",
       "      <td>840205</td>\n",
       "      <td>gccgcctccgaacgtggccgccgcctcctccgaacgtggccgcttc...</td>\n",
       "    </tr>\n",
       "    <tr>\n",
       "      <th>3</th>\n",
       "      <td>chr1</td>\n",
       "      <td>894635</td>\n",
       "      <td>894796</td>\n",
       "      <td>CGTGCACCCCACTTCCGGCCCCAGAATGCCGCGCGGCTGCGCACTT...</td>\n",
       "    </tr>\n",
       "    <tr>\n",
       "      <th>4</th>\n",
       "      <td>chr1</td>\n",
       "      <td>935414</td>\n",
       "      <td>935699</td>\n",
       "      <td>GCGGGCGAGCGGCGAGCGCGCGGCGATCCGAGCCCCTAGGGCGGAT...</td>\n",
       "    </tr>\n",
       "  </tbody>\n",
       "</table>\n",
       "</div>"
      ],
      "text/plain": [
       "    chr   start     end                                                seq\n",
       "0  chr1  713977  714310  ACCATGGCGCCCCAGTGATGTAGCCGAACACCCGCGCCTCTAACGT...\n",
       "1  chr1  762850  762982  GGAGGGCACTCACCCGAGCGGACCTTGGCTCCGGATAATCCGTTTC...\n",
       "2  chr1  840076  840205  gccgcctccgaacgtggccgccgcctcctccgaacgtggccgcttc...\n",
       "3  chr1  894635  894796  CGTGCACCCCACTTCCGGCCCCAGAATGCCGCGCGGCTGCGCACTT...\n",
       "4  chr1  935414  935699  GCGGGCGAGCGGCGAGCGCGCGGCGATCCGAGCCCCTAGGGCGGAT..."
      ]
     },
     "execution_count": 12,
     "metadata": {},
     "output_type": "execute_result"
    }
   ],
   "source": [
    "columns = ['chr','start','end','seq']\n",
    "df = pd.read_csv(f'./Data/chr1.bed',sep='\\t',header=None)\n",
    "df.columns = columns\n",
    "df.head(5)"
   ]
  },
  {
   "cell_type": "code",
   "execution_count": 13,
   "metadata": {
    "colab": {
     "base_uri": "https://localhost:8080/",
     "height": 419
    },
    "colab_type": "code",
    "id": "8m_NiLA24E-m",
    "outputId": "f8d64d90-77c4-4972-ed0e-426d08d72def"
   },
   "outputs": [
    {
     "data": {
      "text/html": [
       "<div>\n",
       "<style scoped>\n",
       "    .dataframe tbody tr th:only-of-type {\n",
       "        vertical-align: middle;\n",
       "    }\n",
       "\n",
       "    .dataframe tbody tr th {\n",
       "        vertical-align: top;\n",
       "    }\n",
       "\n",
       "    .dataframe thead th {\n",
       "        text-align: right;\n",
       "    }\n",
       "</style>\n",
       "<table border=\"1\" class=\"dataframe\">\n",
       "  <thead>\n",
       "    <tr style=\"text-align: right;\">\n",
       "      <th></th>\n",
       "      <th>chr</th>\n",
       "      <th>start</th>\n",
       "      <th>end</th>\n",
       "      <th>seq</th>\n",
       "    </tr>\n",
       "  </thead>\n",
       "  <tbody>\n",
       "    <tr>\n",
       "      <th>47</th>\n",
       "      <td>chr1</td>\n",
       "      <td>2064636</td>\n",
       "      <td>2065136</td>\n",
       "      <td>CCAGCTTCGACCCCCAGCTGTGCGTCAGTCCCTCAGCTCCGCCCCC...</td>\n",
       "    </tr>\n",
       "    <tr>\n",
       "      <th>48</th>\n",
       "      <td>chr1</td>\n",
       "      <td>2111846</td>\n",
       "      <td>2112000</td>\n",
       "      <td>TGCACGGACGACGTAGACACACGGATGACTCATCCACAGATGACTc...</td>\n",
       "    </tr>\n",
       "    <tr>\n",
       "      <th>49</th>\n",
       "      <td>chr1</td>\n",
       "      <td>2120954</td>\n",
       "      <td>2121332</td>\n",
       "      <td>AAACCAAACGTCAGAAAGAAAAGCGGCAGACGTTTCATCACAACAC...</td>\n",
       "    </tr>\n",
       "    <tr>\n",
       "      <th>50</th>\n",
       "      <td>chr1</td>\n",
       "      <td>2121351</td>\n",
       "      <td>2121366</td>\n",
       "      <td>GGCCACCCCAGGGGC</td>\n",
       "    </tr>\n",
       "    <tr>\n",
       "      <th>51</th>\n",
       "      <td>chr1</td>\n",
       "      <td>2126093</td>\n",
       "      <td>2126378</td>\n",
       "      <td>ccggccgcgcccccgcccggctcccggcctcacccgcccgccgggc...</td>\n",
       "    </tr>\n",
       "    <tr>\n",
       "      <th>...</th>\n",
       "      <td>...</td>\n",
       "      <td>...</td>\n",
       "      <td>...</td>\n",
       "      <td>...</td>\n",
       "    </tr>\n",
       "    <tr>\n",
       "      <th>1064</th>\n",
       "      <td>chr1</td>\n",
       "      <td>248020879</td>\n",
       "      <td>248021031</td>\n",
       "      <td>AGGCGGCGCTGTGCTGGGTGTGCGACGCCGGCCCCGAGCACAGGAC...</td>\n",
       "    </tr>\n",
       "    <tr>\n",
       "      <th>1065</th>\n",
       "      <td>chr1</td>\n",
       "      <td>249132199</td>\n",
       "      <td>249132534</td>\n",
       "      <td>GCTGGAAGACTAGACGGTGGACCGCCTAGCTCCCGGGACTCCGCGG...</td>\n",
       "    </tr>\n",
       "    <tr>\n",
       "      <th>1066</th>\n",
       "      <td>chr1</td>\n",
       "      <td>249153182</td>\n",
       "      <td>249153428</td>\n",
       "      <td>GGCCCGGAGCTGCTGGAAGACAGGGGCCCACCTCGCGCGCGCAGCG...</td>\n",
       "    </tr>\n",
       "    <tr>\n",
       "      <th>1067</th>\n",
       "      <td>chr1</td>\n",
       "      <td>249200233</td>\n",
       "      <td>249200467</td>\n",
       "      <td>GGAGGGTAAGGGAGAGTGGCGGGAAGAGCTGGCCCGCTGGGGTGGG...</td>\n",
       "    </tr>\n",
       "    <tr>\n",
       "      <th>1068</th>\n",
       "      <td>chr1</td>\n",
       "      <td>249200738</td>\n",
       "      <td>249200999</td>\n",
       "      <td>ggtgcgaggccggaggccgggccggctgagcgggaggcggagcggg...</td>\n",
       "    </tr>\n",
       "  </tbody>\n",
       "</table>\n",
       "<p>1022 rows × 4 columns</p>\n",
       "</div>"
      ],
      "text/plain": [
       "       chr      start        end  \\\n",
       "47    chr1    2064636    2065136   \n",
       "48    chr1    2111846    2112000   \n",
       "49    chr1    2120954    2121332   \n",
       "50    chr1    2121351    2121366   \n",
       "51    chr1    2126093    2126378   \n",
       "...    ...        ...        ...   \n",
       "1064  chr1  248020879  248021031   \n",
       "1065  chr1  249132199  249132534   \n",
       "1066  chr1  249153182  249153428   \n",
       "1067  chr1  249200233  249200467   \n",
       "1068  chr1  249200738  249200999   \n",
       "\n",
       "                                                    seq  \n",
       "47    CCAGCTTCGACCCCCAGCTGTGCGTCAGTCCCTCAGCTCCGCCCCC...  \n",
       "48    TGCACGGACGACGTAGACACACGGATGACTCATCCACAGATGACTc...  \n",
       "49    AAACCAAACGTCAGAAAGAAAAGCGGCAGACGTTTCATCACAACAC...  \n",
       "50                                      GGCCACCCCAGGGGC  \n",
       "51    ccggccgcgcccccgcccggctcccggcctcacccgcccgccgggc...  \n",
       "...                                                 ...  \n",
       "1064  AGGCGGCGCTGTGCTGGGTGTGCGACGCCGGCCCCGAGCACAGGAC...  \n",
       "1065  GCTGGAAGACTAGACGGTGGACCGCCTAGCTCCCGGGACTCCGCGG...  \n",
       "1066  GGCCCGGAGCTGCTGGAAGACAGGGGCCCACCTCGCGCGCGCAGCG...  \n",
       "1067  GGAGGGTAAGGGAGAGTGGCGGGAAGAGCTGGCCCGCTGGGGTGGG...  \n",
       "1068  ggtgcgaggccggaggccgggccggctgagcgggaggcggagcggg...  \n",
       "\n",
       "[1022 rows x 4 columns]"
      ]
     },
     "execution_count": 13,
     "metadata": {},
     "output_type": "execute_result"
    }
   ],
   "source": [
    "df[df['start'] > 2030000]"
   ]
  },
  {
   "cell_type": "code",
   "execution_count": 14,
   "metadata": {
    "colab": {
     "base_uri": "https://localhost:8080/",
     "height": 35
    },
    "colab_type": "code",
    "id": "pklRUlU-b_FN",
    "outputId": "6b41c416-ddff-4567-8fdd-75e9a504673b"
   },
   "outputs": [
    {
     "name": "stdout",
     "output_type": "stream",
     "text": [
      "2030000-2100000\n",
      "2100000-2240000\n",
      "2240000-2730000\n"
     ]
    }
   ],
   "source": [
    "# Save sequences divided in parts\n",
    "def save_record(start, end, file_name):\n",
    "  part_len = 500\n",
    "  print(f'{start}-{end}')\n",
    "  seq_len = end - start\n",
    "  prev_i = 0\n",
    "  seqs = []\n",
    "  for i in range(500,seq_len+500,500):\n",
    "    #print(i)\n",
    "    part = sequences[0].seq[prev_i:i].upper()\n",
    "    part = SeqRecord(part, str(i),'','')\n",
    "    seqs.append(part)\n",
    "    prev_i = i\n",
    "\n",
    "  SeqIO.write(seqs, f\"./Data/{file_name}.fa\", \"fasta\")\n",
    "\n",
    "seq_len = 700000 #len(sequences[0].seq) - 20000\n",
    "fractions = [0.1,0.2]\n",
    "idxs=[2030000]\n",
    "for frac in fractions:\n",
    "    new_idx = idxs[-1]+int(seq_len*frac)\n",
    "    idxs.append(new_idx)\n",
    "\n",
    "save_record(idxs[0], idxs[1], 'chr1_valid')\n",
    "save_record(idxs[1], idxs[2], 'chr1_test')\n",
    "save_record(idxs[-1], idxs[0] + seq_len, 'chr1_train')"
   ]
  },
  {
   "cell_type": "code",
   "execution_count": 0,
   "metadata": {
    "colab": {},
    "colab_type": "code",
    "id": "RUVV44TJSncr"
   },
   "outputs": [],
   "source": [
    "#os.chdir('/content/drive/My Drive/DeepGQuad/Data')"
   ]
  },
  {
   "cell_type": "code",
   "execution_count": 6,
   "metadata": {
    "colab": {
     "base_uri": "https://localhost:8080/",
     "height": 89
    },
    "colab_type": "code",
    "id": "FTZmbaPyMJKv",
    "outputId": "fde609fc-8a4c-4b00-8654-24533c7c9450"
   },
   "outputs": [],
   "source": [
    "!wandb login"
   ]
  },
  {
   "cell_type": "code",
   "execution_count": 0,
   "metadata": {
    "colab": {},
    "colab_type": "code",
    "id": "Apt8vNY7Ssuv"
   },
   "outputs": [],
   "source": [
    "#os.environ['WANDB_PROJECT'] = 'gquad'\n",
    "os.environ['WANDB_PROJECT'] = 'gquad_labeled'"
   ]
  },
  {
   "cell_type": "code",
   "execution_count": 0,
   "metadata": {
    "colab": {},
    "colab_type": "code",
    "id": "NyoTLU9MiX74"
   },
   "outputs": [],
   "source": [
    "#os.chdir('/content/drive/My Drive/DeepGQuad/results')"
   ]
  },
  {
   "cell_type": "code",
   "execution_count": 0,
   "metadata": {
    "colab": {},
    "colab_type": "code",
    "id": "1H54Rk3QjjAV"
   },
   "outputs": [],
   "source": [
    "#!git clone https://github.com/NVIDIA/apex\n",
    "#%cd apex\n",
    "#!pip install -e \"apex\" --no-cache-dir --global-option=\"--cpp_ext\" --global-option=\"--cuda_ext\"\n",
    "#!pip install -v --no-cache-dir ./\n",
    "#os.chdir('..')"
   ]
  },
  {
   "cell_type": "code",
   "execution_count": 0,
   "metadata": {
    "colab": {
     "base_uri": "https://localhost:8080/",
     "height": 1000
    },
    "colab_type": "code",
    "id": "fhSu3tOyajr1",
    "outputId": "6cf8f596-b1f1-4bea-a7b8-9a1cb63c3885"
   },
   "outputs": [
    {
     "name": "stdout",
     "output_type": "stream",
     "text": [
      "20/05/30 15:25:35 - INFO - tape.models.modeling_utils -   loading configuration file /content/drive/My Drive/mya/tape/results/g_quadruplex_transformer_20-05-30-15-06-50_711714/config.json\n",
      "20/05/30 15:25:35 - INFO - tape.models.modeling_utils -   Model config {\n",
      "  \"attention_probs_dropout_prob\": 0.1,\n",
      "  \"finetuning_task\": null,\n",
      "  \"hidden_act\": \"gelu\",\n",
      "  \"hidden_dropout_prob\": 0.1,\n",
      "  \"hidden_size\": 768,\n",
      "  \"initializer_range\": 0.02,\n",
      "  \"intermediate_size\": 3072,\n",
      "  \"layer_norm_eps\": 1e-12,\n",
      "  \"max_position_embeddings\": 8096,\n",
      "  \"num_attention_heads\": 12,\n",
      "  \"num_hidden_layers\": 12,\n",
      "  \"num_labels\": 2,\n",
      "  \"output_attentions\": false,\n",
      "  \"output_hidden_states\": false,\n",
      "  \"torchscript\": false,\n",
      "  \"type_vocab_size\": 2,\n",
      "  \"vocab_size\": 30\n",
      "}\n",
      "\n",
      "20/05/30 15:25:35 - INFO - tape.models.modeling_utils -   loading weights file /content/drive/My Drive/mya/tape/results/g_quadruplex_transformer_20-05-30-15-06-50_711714/pytorch_model.bin\n",
      "\u001b[34m\u001b[1mwandb\u001b[0m: Tracking run with wandb version 0.8.36\n",
      "\u001b[34m\u001b[1mwandb\u001b[0m: Run data is saved locally in logs/wandb/run-20200530_152541-12euhax1\n",
      "\u001b[34m\u001b[1mwandb\u001b[0m: Syncing run \u001b[33mg_quadruplex_transformer_20-05-30-15-25-34_733268\u001b[0m\n",
      "\u001b[34m\u001b[1mwandb\u001b[0m: ⭐️ View project at \u001b[34m\u001b[4mhttps://app.wandb.ai/loky/gquad_labeled\u001b[0m\n",
      "\u001b[34m\u001b[1mwandb\u001b[0m: 🚀 View run at \u001b[34m\u001b[4mhttps://app.wandb.ai/loky/gquad_labeled/runs/12euhax1\u001b[0m\n",
      "\u001b[34m\u001b[1mwandb\u001b[0m: Run `wandb off` to turn off syncing.\n",
      "\n",
      "20/05/30 15:25:42 - INFO - tape.training -   device: cuda n_gpu: 1, distributed_training: False, 16-bits training: False\n",
      "20/05/30 15:25:43 - INFO - tape.training -   ***** Running training *****\n",
      "20/05/30 15:25:43 - INFO - tape.training -     Num examples = 6424\n",
      "20/05/30 15:25:43 - INFO - tape.training -     Batch size = 32\n",
      "20/05/30 15:25:43 - INFO - tape.training -     Num epochs = 30\n",
      "20/05/30 15:25:43 - INFO - tape.training -     Num train steps = 6022\n",
      "20/05/30 15:25:43 - INFO - tape.training -     Num parameters = 93860100\n",
      "/usr/local/lib/python3.6/dist-packages/torch/optim/lr_scheduler.py:224: UserWarning: To get the last learning rate computed by the scheduler, please use `get_last_lr()`.\n",
      "  warnings.warn(\"To get the last learning rate computed by the scheduler, \"\n",
      "20/05/30 15:26:25 - INFO - tape.training -   [Ep: 1.10][Iter: 20][Time: 41.88s][Loss: 0.42271][Accuracy: 0.81819][LR: 2.2e-06]\n",
      "20/05/30 15:27:07 - INFO - tape.training -   [Ep: 1.20][Iter: 40][Time: 41.80s][Loss: 0.38466][Accuracy: 0.83334][LR: 2.4e-06]\n",
      "20/05/30 15:27:48 - INFO - tape.training -   [Ep: 1.30][Iter: 60][Time: 41.93s][Loss: 0.37772][Accuracy: 0.83478][LR: 2.6e-06]\n",
      "20/05/30 15:28:30 - INFO - tape.training -   [Ep: 1.40][Iter: 80][Time: 41.85s][Loss: 0.37375][Accuracy: 0.83449][LR: 2.8e-06]\n",
      "20/05/30 15:29:12 - INFO - tape.training -   [Ep: 1.50][Iter: 100][Time: 41.86s][Loss: 0.36141][Accuracy: 0.83972][LR: 3e-06]\n",
      "20/05/30 15:29:54 - INFO - tape.training -   [Ep: 1.60][Iter: 120][Time: 41.50s][Loss: 0.36367][Accuracy: 0.83688][LR: 3.2e-06]\n",
      "20/05/30 15:30:36 - INFO - tape.training -   [Ep: 1.70][Iter: 140][Time: 41.88s][Loss: 0.35306][Accuracy: 0.84193][LR: 3.4e-06]\n",
      "20/05/30 15:31:17 - INFO - tape.training -   [Ep: 1.80][Iter: 160][Time: 41.83s][Loss: 0.36168][Accuracy: 0.84075][LR: 3.6e-06]\n",
      "20/05/30 15:31:59 - INFO - tape.training -   [Ep: 1.90][Iter: 180][Time: 41.96s][Loss: 0.36318][Accuracy: 0.83823][LR: 3.8e-06]\n",
      "20/05/30 15:32:41 - INFO - tape.training -   [Ep: 2.00][Iter: 200][Time: 41.72s][Loss: 0.36521][Accuracy: 0.83682][LR: 4e-06]\n",
      "20/05/30 15:32:43 - INFO - tape.training -   Train: [Loss: 0.3686][Accuracy: 0.83739]\n",
      "20/05/30 15:33:13 - INFO - tape.training -   Evaluation: [Loss: 0.34244][Accuracy: 0.84639]\n",
      "20/05/30 15:33:13 - INFO - tape.training -   ** ** * Saving trained model ** ** * \n",
      "20/05/30 15:33:17 - INFO - tape.training -   Saving model checkpoint to results/g_quadruplex_transformer_20-05-30-15-25-34_733268\n",
      "20/05/30 15:34:00 - INFO - tape.training -   [Ep: 2.10][Iter: 220][Time: 42.18s][Loss: 0.37121][Accuracy: 0.83373][LR: 4.2e-06]\n",
      "20/05/30 15:34:41 - INFO - tape.training -   [Ep: 2.20][Iter: 240][Time: 41.96s][Loss: 0.36666][Accuracy: 0.83672][LR: 4.4e-06]\n",
      "20/05/30 15:35:23 - INFO - tape.training -   [Ep: 2.30][Iter: 260][Time: 41.96s][Loss: 0.36289][Accuracy: 0.8382][LR: 4.6e-06]\n",
      "\u001b[34m\u001b[1mwandb\u001b[0m: Ctrl-c pressed.\n",
      "\u001b[34m\u001b[1mwandb\u001b[0m: Program failed with code 255. Press ctrl-c to abort syncing.\n",
      "Traceback (most recent call last):\n",
      "  File \"/content/drive/My Drive/mya/tape/dna_tape.py\", line 311, in <module>\n",
      "    run_train()\n",
      "  File \"/content/drive/My Drive/mya/tape/tape/main.py\", line 191, in run_train\n",
      "    training.run_train(**train_args)\n",
      "  File \"/content/drive/My Drive/mya/tape/tape/training.py\", line 508, in run_train\n",
      "    viz, num_log_iter, gradient_accumulation_steps)\n",
      "  File \"/content/drive/My Drive/mya/tape/tape/training.py\", line 300, in run_train_epoch\n",
      "    runner.backward(loss)\n",
      "  File \"/content/drive/My Drive/mya/tape/tape/training.py\", line 193, in backward\n",
      "    loss.backward()\n",
      "  File \"/usr/local/lib/python3.6/dist-packages/torch/tensor.py\", line 195, in backward\n",
      "    torch.autograd.backward(self, gradient, retain_graph, create_graph)\n",
      "  File \"/usr/local/lib/python3.6/dist-packages/torch/autograd/__init__.py\", line 99, in backward\n",
      "    allow_unreachable=True)  # allow_unreachable flag\n",
      "KeyboardInterrupt\n",
      "\n",
      "\u001b[34m\u001b[1mwandb\u001b[0m: Waiting for W&B process to finish, PID 2682\n",
      "\u001b[34m\u001b[1mwandb\u001b[0m: Run summary:\n",
      "\u001b[34m\u001b[1mwandb\u001b[0m:                                                            _runtime 616.2904329299927\n",
      "\u001b[34m\u001b[1mwandb\u001b[0m:                                                          _timestamp 1590852951.0572138\n",
      "\u001b[34m\u001b[1mwandb\u001b[0m:                                                          Train Loss 0.41461145877838135\n",
      "\u001b[34m\u001b[1mwandb\u001b[0m:                                                               _step 273\n",
      "\u001b[34m\u001b[1mwandb\u001b[0m:                                                      Train Accuracy 0.8211874961853027\n",
      "\u001b[34m\u001b[1mwandb\u001b[0m:                                                            Val Loss 0.3424412590426368\n",
      "\u001b[34m\u001b[1mwandb\u001b[0m:                                                        Val Accuracy 0.8463943249470479\n",
      "\u001b[34m\u001b[1mwandb\u001b[0m: Syncing 7 W&B file(s) and 1 media file(s)\n",
      "\u001b[34m\u001b[1mwandb\u001b[0m:                                                                                \n",
      "\u001b[34m\u001b[1mwandb\u001b[0m: Synced g_quadruplex_transformer_20-05-30-15-25-34_733268: https://app.wandb.ai/loky/gquad_labeled/runs/12euhax1\n"
     ]
    }
   ],
   "source": [
    "# Train\n",
    "!python /content/drive/My\\ Drive/DeepGQuad/scripts/train_bert.py transformer g_quadruplex --data_dir '/content/drive/My Drive/DeepGQuad/Data' --tokenizer dna  --num_train_epochs 30 --batch_size 32 --learning_rate 1e-5 --patience  2  --save_freq 1 --eval_freq 1 --warmup_steps 1000 --gradient_accumulation_steps 4 --from_pretrained /content/drive/My\\ Drive/DeepGQuad/results/g_quadruplex_transformer_20-05-30-15-06-50_711714 --resume_from_checkpoint"
   ]
  },
  {
   "cell_type": "code",
   "execution_count": 7,
   "metadata": {
    "colab": {},
    "colab_type": "code",
    "id": "3UBJDglWK_Iu"
   },
   "outputs": [],
   "source": [
    "#results/dna_masked_language_modeling_transformer_20-05-20-18-58-27_610560  results/g_quadruplex_transformer_20-05-20-19-17-20_872492"
   ]
  },
  {
   "cell_type": "code",
   "execution_count": 0,
   "metadata": {
    "colab": {},
    "colab_type": "code",
    "id": "TiNZ5rdkws7l"
   },
   "outputs": [],
   "source": [
    "torch.cuda.empty_cache()"
   ]
  },
  {
   "cell_type": "code",
   "execution_count": 34,
   "metadata": {
    "colab": {
     "base_uri": "https://localhost:8080/",
     "height": 323
    },
    "colab_type": "code",
    "id": "Gd8LXZOM56o7",
    "outputId": "55845bee-4a93-4e8a-c0cb-b13942e30564"
   },
   "outputs": [
    {
     "name": "stdout",
     "output_type": "stream",
     "text": [
      "Mon Jun  1 15:00:03 2020       \n",
      "+-----------------------------------------------------------------------------+\n",
      "| NVIDIA-SMI 440.82       Driver Version: 418.67       CUDA Version: 10.1     |\n",
      "|-------------------------------+----------------------+----------------------+\n",
      "| GPU  Name        Persistence-M| Bus-Id        Disp.A | Volatile Uncorr. ECC |\n",
      "| Fan  Temp  Perf  Pwr:Usage/Cap|         Memory-Usage | GPU-Util  Compute M. |\n",
      "|===============================+======================+======================|\n",
      "|   0  Tesla T4            Off  | 00000000:00:04.0 Off |                    0 |\n",
      "| N/A   35C    P8     9W /  70W |      0MiB / 15079MiB |      0%      Default |\n",
      "+-------------------------------+----------------------+----------------------+\n",
      "                                                                               \n",
      "+-----------------------------------------------------------------------------+\n",
      "| Processes:                                                       GPU Memory |\n",
      "|  GPU       PID   Type   Process name                             Usage      |\n",
      "|=============================================================================|\n",
      "|  No running processes found                                                 |\n",
      "+-----------------------------------------------------------------------------+\n"
     ]
    }
   ],
   "source": [
    "!nvidia-smi"
   ]
  },
  {
   "cell_type": "markdown",
   "metadata": {
    "colab_type": "text",
    "id": "KVmBpx9Le-gL"
   },
   "source": [
    "# Evaluation\n"
   ]
  },
  {
   "cell_type": "code",
   "execution_count": 0,
   "metadata": {
    "colab": {},
    "colab_type": "code",
    "id": "yaXMseU_Wo5x"
   },
   "outputs": [],
   "source": [
    "# transformer\n",
    "# accuracy: 0.205 40 epochs  \n",
    "#0.462 80 epochs \n",
    "#0.436 99 epochs\n",
    "# resnet\n",
    "# 0.304 80 epochs"
   ]
  },
  {
   "cell_type": "code",
   "execution_count": 8,
   "metadata": {
    "colab": {
     "base_uri": "https://localhost:8080/",
     "height": 136
    },
    "colab_type": "code",
    "id": "Uln-vaiRuXd2",
    "outputId": "a616c8c1-85b8-4600-af73-8235c3458c6b"
   },
   "outputs": [],
   "source": [
    "#/content/drive/My Drive/DeepGQuad/results/g_quadruplex_transformer_20-05-21-14-00-49_080144"
   ]
  },
  {
   "cell_type": "markdown",
   "metadata": {
    "colab_type": "text",
    "id": "nnymDR_W6-Aj"
   },
   "source": [
    "##### best\n",
    "\n",
    "* b12 gr_step 1 \n",
    "accuracy: 0.6998666666666666iou: 50.92129256577632 recall: 0.3935121817684095 false_neg: 4431\n",
    "\n",
    "* b16 gr_step 2 \n",
    "accuracy: 0.7130666666666666 iou: 53.8418987949087 recall: 0.9753627155762387 false_neg: 180\n",
    "\n",
    "* g_quadruplex_transformer_20-05-30-14-21-32_585376\n",
    "b32 gr_step 4 lr 1e-5\n",
    "accuracy: 0.815 iou: 68.4089288320499 recall: 0.7054475773336983f alse_neg: 2152\n",
    "\n",
    "* 20-05-30-15-06-50_711714\n",
    "pretrained\n",
    "accuracy: 0.8169333333333333iou: 68.87577593376315 recall: 0.7471940870517383 false_neg: 1847\n"
   ]
  },
  {
   "cell_type": "code",
   "execution_count": 0,
   "metadata": {
    "colab": {},
    "colab_type": "code",
    "id": "rxGMgquc7yB6"
   },
   "outputs": [],
   "source": [
    "!python /content/drive/My\\ Drive/DeepGQuad/scripts/eval_bert.py transformer g_quadruplex /content/drive/My\\ Drive/DeepGQuad/results/g_quadruplex_transformer_20-05-30-14-21-32_585376 --metrics accuracy iou recall false_neg --tokenizer dna --data_dir '/content/drive/My Drive/Data'"
   ]
  },
  {
   "cell_type": "code",
   "execution_count": 0,
   "metadata": {
    "colab": {},
    "colab_type": "code",
    "id": "AUjMYU8mEGkc"
   },
   "outputs": [],
   "source": [
    "#!python eval_bert.py transformer dna_masked_language_modeling results/dna_masked_language_modeling_transformer_20-05-27-18-58-27_610560 --metrics accuracy  --tokenizer dna --data_dir './Data'"
   ]
  },
  {
   "cell_type": "code",
   "execution_count": 0,
   "metadata": {
    "colab": {
     "base_uri": "https://localhost:8080/",
     "height": 541
    },
    "colab_type": "code",
    "id": "6vJmOZ3ZLslF",
    "outputId": "0672d1a1-706f-4f59-f51b-2658644814f1"
   },
   "outputs": [
    {
     "name": "stdout",
     "output_type": "stream",
     "text": [
      "20/05/30 13:14:08 - INFO - tape.training -   device: cpu n_gpu: 1\n",
      "20/05/30 13:14:08 - INFO - tape.models.modeling_utils -   loading configuration file /content/drive/My Drive/mya/tape/results/g_quadruplex_transformer_20-05-27-19-17-20_872492/config.json\n",
      "20/05/30 13:14:08 - INFO - tape.models.modeling_utils -   Model config {\n",
      "  \"attention_probs_dropout_prob\": 0.1,\n",
      "  \"finetuning_task\": null,\n",
      "  \"hidden_act\": \"gelu\",\n",
      "  \"hidden_dropout_prob\": 0.1,\n",
      "  \"hidden_size\": 768,\n",
      "  \"initializer_range\": 0.02,\n",
      "  \"intermediate_size\": 3072,\n",
      "  \"layer_norm_eps\": 1e-12,\n",
      "  \"max_position_embeddings\": 8096,\n",
      "  \"num_attention_heads\": 12,\n",
      "  \"num_hidden_layers\": 12,\n",
      "  \"num_labels\": 2,\n",
      "  \"output_attentions\": false,\n",
      "  \"output_hidden_states\": false,\n",
      "  \"torchscript\": false,\n",
      "  \"type_vocab_size\": 2,\n",
      "  \"vocab_size\": 30\n",
      "}\n",
      "\n",
      "20/05/30 13:14:08 - INFO - tape.models.modeling_utils -   loading weights file /content/drive/My Drive/mya/tape/results/g_quadruplex_transformer_20-05-27-19-17-20_872492/pytorch_model.bin\n",
      "Evaluation: 100% 1/1 [00:12<00:00, 12.01s/it]\n",
      "[[2200    0]\n",
      " [ 500    0]]\n",
      "sequence case\n",
      "20/05/30 13:14:24 - INFO - tape.training -   accuracy: 0.8148148148148148iou: 40.74074074074074recall: 0.0false_neg: 500\n"
     ]
    }
   ],
   "source": [
    "!python /content/drive/My\\ Drive/DeepGQuad/scripts/eval_bert.py transformer g_quadruplex /content/drive/My\\ Drive/mya/tape/results/g_quadruplex_transformer_20-05-27-19-17-20_872492 --metrics accuracy iou recall false_neg --tokenizer dna --data_dir '/content/drive/My Drive/mya/DNA-transformer/data'"
   ]
  },
  {
   "cell_type": "code",
   "execution_count": 0,
   "metadata": {
    "colab": {},
    "colab_type": "code",
    "id": "QRp5IBW2smYb"
   },
   "outputs": [],
   "source": []
  }
 ],
 "metadata": {
  "accelerator": "GPU",
  "colab": {
   "collapsed_sections": [],
   "name": "BERT.ipynb",
   "provenance": []
  },
  "kernelspec": {
   "display_name": "Python 3",
   "language": "python",
   "name": "python3"
  },
  "language_info": {
   "codemirror_mode": {
    "name": "ipython",
    "version": 3
   },
   "file_extension": ".py",
   "mimetype": "text/x-python",
   "name": "python",
   "nbconvert_exporter": "python",
   "pygments_lexer": "ipython3",
   "version": "3.7.6"
  }
 },
 "nbformat": 4,
 "nbformat_minor": 1
}
